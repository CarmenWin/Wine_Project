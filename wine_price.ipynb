{
 "cells": [
  {
   "cell_type": "code",
   "execution_count": 16,
   "metadata": {},
   "outputs": [],
   "source": [
    "import pandas as pd\n",
    "import seaborn as sns\n",
    "import matplotlib as plt"
   ]
  },
  {
   "cell_type": "code",
   "execution_count": 17,
   "metadata": {},
   "outputs": [],
   "source": [
    "wine_price = pd.read_csv('/Users/CW/Desktop/0_CAB/Wine_Project_backup/wine_sales_data (2).csv', sep =',', on_bad_lines='skip', engine='python', index_col=False)\n",
    "\n",
    "#display(wine_price.head())"
   ]
  },
  {
   "cell_type": "code",
   "execution_count": 18,
   "metadata": {},
   "outputs": [
    {
     "data": {
      "text/html": [
       "<div>\n",
       "<style scoped>\n",
       "    .dataframe tbody tr th:only-of-type {\n",
       "        vertical-align: middle;\n",
       "    }\n",
       "\n",
       "    .dataframe tbody tr th {\n",
       "        vertical-align: top;\n",
       "    }\n",
       "\n",
       "    .dataframe thead th {\n",
       "        text-align: right;\n",
       "    }\n",
       "</style>\n",
       "<table border=\"1\" class=\"dataframe\">\n",
       "  <thead>\n",
       "    <tr style=\"text-align: right;\">\n",
       "      <th></th>\n",
       "      <th>Unnamed: 0</th>\n",
       "      <th>country</th>\n",
       "      <th>description</th>\n",
       "      <th>designation</th>\n",
       "      <th>points</th>\n",
       "      <th>price</th>\n",
       "      <th>province</th>\n",
       "      <th>region_1</th>\n",
       "      <th>region_2</th>\n",
       "      <th>variety</th>\n",
       "      <th>winery</th>\n",
       "    </tr>\n",
       "  </thead>\n",
       "  <tbody>\n",
       "    <tr>\n",
       "      <th>0</th>\n",
       "      <td>0</td>\n",
       "      <td>US</td>\n",
       "      <td>This tremendous 100% varietal wine hails from ...</td>\n",
       "      <td>Martha's Vineyard</td>\n",
       "      <td>96</td>\n",
       "      <td>235.0</td>\n",
       "      <td>California</td>\n",
       "      <td>Napa Valley</td>\n",
       "      <td>Napa</td>\n",
       "      <td>Cabernet Sauvignon</td>\n",
       "      <td>Heitz</td>\n",
       "    </tr>\n",
       "    <tr>\n",
       "      <th>1</th>\n",
       "      <td>1</td>\n",
       "      <td>Spain</td>\n",
       "      <td>Ripe aromas of fig, blackberry and cassis are ...</td>\n",
       "      <td>Carodorum Selección Especial Reserva</td>\n",
       "      <td>96</td>\n",
       "      <td>110.0</td>\n",
       "      <td>Northern Spain</td>\n",
       "      <td>Toro</td>\n",
       "      <td>NaN</td>\n",
       "      <td>Tinta de Toro</td>\n",
       "      <td>Bodega Carmen Rodríguez</td>\n",
       "    </tr>\n",
       "    <tr>\n",
       "      <th>2</th>\n",
       "      <td>2</td>\n",
       "      <td>US</td>\n",
       "      <td>Mac Watson honors the memory of a wine once ma...</td>\n",
       "      <td>Special Selected Late Harvest</td>\n",
       "      <td>96</td>\n",
       "      <td>90.0</td>\n",
       "      <td>California</td>\n",
       "      <td>Knights Valley</td>\n",
       "      <td>Sonoma</td>\n",
       "      <td>Sauvignon Blanc</td>\n",
       "      <td>Macauley</td>\n",
       "    </tr>\n",
       "    <tr>\n",
       "      <th>3</th>\n",
       "      <td>3</td>\n",
       "      <td>US</td>\n",
       "      <td>This spent 20 months in 30% new French oak, an...</td>\n",
       "      <td>Reserve</td>\n",
       "      <td>96</td>\n",
       "      <td>65.0</td>\n",
       "      <td>Oregon</td>\n",
       "      <td>Willamette Valley</td>\n",
       "      <td>Willamette Valley</td>\n",
       "      <td>Pinot Noir</td>\n",
       "      <td>Ponzi</td>\n",
       "    </tr>\n",
       "    <tr>\n",
       "      <th>4</th>\n",
       "      <td>4</td>\n",
       "      <td>France</td>\n",
       "      <td>This is the top wine from La Bégude, named aft...</td>\n",
       "      <td>La Brûlade</td>\n",
       "      <td>95</td>\n",
       "      <td>66.0</td>\n",
       "      <td>Provence</td>\n",
       "      <td>Bandol</td>\n",
       "      <td>NaN</td>\n",
       "      <td>Provence red blend</td>\n",
       "      <td>Domaine de la Bégude</td>\n",
       "    </tr>\n",
       "    <tr>\n",
       "      <th>...</th>\n",
       "      <td>...</td>\n",
       "      <td>...</td>\n",
       "      <td>...</td>\n",
       "      <td>...</td>\n",
       "      <td>...</td>\n",
       "      <td>...</td>\n",
       "      <td>...</td>\n",
       "      <td>...</td>\n",
       "      <td>...</td>\n",
       "      <td>...</td>\n",
       "      <td>...</td>\n",
       "    </tr>\n",
       "    <tr>\n",
       "      <th>150925</th>\n",
       "      <td>150925</td>\n",
       "      <td>Italy</td>\n",
       "      <td>Many people feel Fiano represents southern Ita...</td>\n",
       "      <td>NaN</td>\n",
       "      <td>91</td>\n",
       "      <td>20.0</td>\n",
       "      <td>Southern Italy</td>\n",
       "      <td>Fiano di Avellino</td>\n",
       "      <td>NaN</td>\n",
       "      <td>White Blend</td>\n",
       "      <td>Feudi di San Gregorio</td>\n",
       "    </tr>\n",
       "    <tr>\n",
       "      <th>150926</th>\n",
       "      <td>150926</td>\n",
       "      <td>France</td>\n",
       "      <td>Offers an intriguing nose with ginger, lime an...</td>\n",
       "      <td>Cuvée Prestige</td>\n",
       "      <td>91</td>\n",
       "      <td>27.0</td>\n",
       "      <td>Champagne</td>\n",
       "      <td>Champagne</td>\n",
       "      <td>NaN</td>\n",
       "      <td>Champagne Blend</td>\n",
       "      <td>H.Germain</td>\n",
       "    </tr>\n",
       "    <tr>\n",
       "      <th>150927</th>\n",
       "      <td>150927</td>\n",
       "      <td>Italy</td>\n",
       "      <td>This classic example comes from a cru vineyard...</td>\n",
       "      <td>Terre di Dora</td>\n",
       "      <td>91</td>\n",
       "      <td>20.0</td>\n",
       "      <td>Southern Italy</td>\n",
       "      <td>Fiano di Avellino</td>\n",
       "      <td>NaN</td>\n",
       "      <td>White Blend</td>\n",
       "      <td>Terredora</td>\n",
       "    </tr>\n",
       "    <tr>\n",
       "      <th>150928</th>\n",
       "      <td>150928</td>\n",
       "      <td>France</td>\n",
       "      <td>A perfect salmon shade, with scents of peaches...</td>\n",
       "      <td>Grand Brut Rosé</td>\n",
       "      <td>90</td>\n",
       "      <td>52.0</td>\n",
       "      <td>Champagne</td>\n",
       "      <td>Champagne</td>\n",
       "      <td>NaN</td>\n",
       "      <td>Champagne Blend</td>\n",
       "      <td>Gosset</td>\n",
       "    </tr>\n",
       "    <tr>\n",
       "      <th>150929</th>\n",
       "      <td>150929</td>\n",
       "      <td>Italy</td>\n",
       "      <td>More Pinot Grigios should taste like this. A r...</td>\n",
       "      <td>NaN</td>\n",
       "      <td>90</td>\n",
       "      <td>15.0</td>\n",
       "      <td>Northeastern Italy</td>\n",
       "      <td>Alto Adige</td>\n",
       "      <td>NaN</td>\n",
       "      <td>Pinot Grigio</td>\n",
       "      <td>Alois Lageder</td>\n",
       "    </tr>\n",
       "  </tbody>\n",
       "</table>\n",
       "<p>150930 rows × 11 columns</p>\n",
       "</div>"
      ],
      "text/plain": [
       "        Unnamed: 0 country                                        description  \\\n",
       "0                0      US  This tremendous 100% varietal wine hails from ...   \n",
       "1                1   Spain  Ripe aromas of fig, blackberry and cassis are ...   \n",
       "2                2      US  Mac Watson honors the memory of a wine once ma...   \n",
       "3                3      US  This spent 20 months in 30% new French oak, an...   \n",
       "4                4  France  This is the top wine from La Bégude, named aft...   \n",
       "...            ...     ...                                                ...   \n",
       "150925      150925   Italy  Many people feel Fiano represents southern Ita...   \n",
       "150926      150926  France  Offers an intriguing nose with ginger, lime an...   \n",
       "150927      150927   Italy  This classic example comes from a cru vineyard...   \n",
       "150928      150928  France  A perfect salmon shade, with scents of peaches...   \n",
       "150929      150929   Italy  More Pinot Grigios should taste like this. A r...   \n",
       "\n",
       "                                 designation  points  price  \\\n",
       "0                          Martha's Vineyard      96  235.0   \n",
       "1       Carodorum Selección Especial Reserva      96  110.0   \n",
       "2              Special Selected Late Harvest      96   90.0   \n",
       "3                                    Reserve      96   65.0   \n",
       "4                                 La Brûlade      95   66.0   \n",
       "...                                      ...     ...    ...   \n",
       "150925                                   NaN      91   20.0   \n",
       "150926                        Cuvée Prestige      91   27.0   \n",
       "150927                         Terre di Dora      91   20.0   \n",
       "150928                       Grand Brut Rosé      90   52.0   \n",
       "150929                                   NaN      90   15.0   \n",
       "\n",
       "                  province           region_1           region_2  \\\n",
       "0               California        Napa Valley               Napa   \n",
       "1           Northern Spain               Toro                NaN   \n",
       "2               California     Knights Valley             Sonoma   \n",
       "3                   Oregon  Willamette Valley  Willamette Valley   \n",
       "4                 Provence             Bandol                NaN   \n",
       "...                    ...                ...                ...   \n",
       "150925      Southern Italy  Fiano di Avellino                NaN   \n",
       "150926           Champagne          Champagne                NaN   \n",
       "150927      Southern Italy  Fiano di Avellino                NaN   \n",
       "150928           Champagne          Champagne                NaN   \n",
       "150929  Northeastern Italy         Alto Adige                NaN   \n",
       "\n",
       "                   variety                   winery  \n",
       "0       Cabernet Sauvignon                    Heitz  \n",
       "1            Tinta de Toro  Bodega Carmen Rodríguez  \n",
       "2          Sauvignon Blanc                 Macauley  \n",
       "3               Pinot Noir                    Ponzi  \n",
       "4       Provence red blend     Domaine de la Bégude  \n",
       "...                    ...                      ...  \n",
       "150925         White Blend    Feudi di San Gregorio  \n",
       "150926     Champagne Blend                H.Germain  \n",
       "150927         White Blend                Terredora  \n",
       "150928     Champagne Blend                   Gosset  \n",
       "150929        Pinot Grigio            Alois Lageder  \n",
       "\n",
       "[150930 rows x 11 columns]"
      ]
     },
     "execution_count": 18,
     "metadata": {},
     "output_type": "execute_result"
    }
   ],
   "source": [
    "wine_price"
   ]
  },
  {
   "cell_type": "code",
   "execution_count": 4,
   "metadata": {},
   "outputs": [
    {
     "data": {
      "text/html": [
       "<div>\n",
       "<style scoped>\n",
       "    .dataframe tbody tr th:only-of-type {\n",
       "        vertical-align: middle;\n",
       "    }\n",
       "\n",
       "    .dataframe tbody tr th {\n",
       "        vertical-align: top;\n",
       "    }\n",
       "\n",
       "    .dataframe thead th {\n",
       "        text-align: right;\n",
       "    }\n",
       "</style>\n",
       "<table border=\"1\" class=\"dataframe\">\n",
       "  <thead>\n",
       "    <tr style=\"text-align: right;\">\n",
       "      <th></th>\n",
       "      <th>Unnamed: 0</th>\n",
       "      <th>country</th>\n",
       "      <th>description</th>\n",
       "      <th>designation</th>\n",
       "      <th>points</th>\n",
       "      <th>price</th>\n",
       "      <th>province</th>\n",
       "      <th>region_1</th>\n",
       "      <th>region_2</th>\n",
       "      <th>variety</th>\n",
       "      <th>winery</th>\n",
       "    </tr>\n",
       "  </thead>\n",
       "  <tbody>\n",
       "    <tr>\n",
       "      <th>150925</th>\n",
       "      <td>150925</td>\n",
       "      <td>Italy</td>\n",
       "      <td>Many people feel Fiano represents southern Ita...</td>\n",
       "      <td>NaN</td>\n",
       "      <td>91</td>\n",
       "      <td>20.0</td>\n",
       "      <td>Southern Italy</td>\n",
       "      <td>Fiano di Avellino</td>\n",
       "      <td>NaN</td>\n",
       "      <td>White Blend</td>\n",
       "      <td>Feudi di San Gregorio</td>\n",
       "    </tr>\n",
       "    <tr>\n",
       "      <th>150926</th>\n",
       "      <td>150926</td>\n",
       "      <td>France</td>\n",
       "      <td>Offers an intriguing nose with ginger, lime an...</td>\n",
       "      <td>Cuvée Prestige</td>\n",
       "      <td>91</td>\n",
       "      <td>27.0</td>\n",
       "      <td>Champagne</td>\n",
       "      <td>Champagne</td>\n",
       "      <td>NaN</td>\n",
       "      <td>Champagne Blend</td>\n",
       "      <td>H.Germain</td>\n",
       "    </tr>\n",
       "    <tr>\n",
       "      <th>150927</th>\n",
       "      <td>150927</td>\n",
       "      <td>Italy</td>\n",
       "      <td>This classic example comes from a cru vineyard...</td>\n",
       "      <td>Terre di Dora</td>\n",
       "      <td>91</td>\n",
       "      <td>20.0</td>\n",
       "      <td>Southern Italy</td>\n",
       "      <td>Fiano di Avellino</td>\n",
       "      <td>NaN</td>\n",
       "      <td>White Blend</td>\n",
       "      <td>Terredora</td>\n",
       "    </tr>\n",
       "    <tr>\n",
       "      <th>150928</th>\n",
       "      <td>150928</td>\n",
       "      <td>France</td>\n",
       "      <td>A perfect salmon shade, with scents of peaches...</td>\n",
       "      <td>Grand Brut Rosé</td>\n",
       "      <td>90</td>\n",
       "      <td>52.0</td>\n",
       "      <td>Champagne</td>\n",
       "      <td>Champagne</td>\n",
       "      <td>NaN</td>\n",
       "      <td>Champagne Blend</td>\n",
       "      <td>Gosset</td>\n",
       "    </tr>\n",
       "    <tr>\n",
       "      <th>150929</th>\n",
       "      <td>150929</td>\n",
       "      <td>Italy</td>\n",
       "      <td>More Pinot Grigios should taste like this. A r...</td>\n",
       "      <td>NaN</td>\n",
       "      <td>90</td>\n",
       "      <td>15.0</td>\n",
       "      <td>Northeastern Italy</td>\n",
       "      <td>Alto Adige</td>\n",
       "      <td>NaN</td>\n",
       "      <td>Pinot Grigio</td>\n",
       "      <td>Alois Lageder</td>\n",
       "    </tr>\n",
       "  </tbody>\n",
       "</table>\n",
       "</div>"
      ],
      "text/plain": [
       "        Unnamed: 0 country                                        description  \\\n",
       "150925      150925   Italy  Many people feel Fiano represents southern Ita...   \n",
       "150926      150926  France  Offers an intriguing nose with ginger, lime an...   \n",
       "150927      150927   Italy  This classic example comes from a cru vineyard...   \n",
       "150928      150928  France  A perfect salmon shade, with scents of peaches...   \n",
       "150929      150929   Italy  More Pinot Grigios should taste like this. A r...   \n",
       "\n",
       "            designation  points  price            province           region_1  \\\n",
       "150925              NaN      91   20.0      Southern Italy  Fiano di Avellino   \n",
       "150926   Cuvée Prestige      91   27.0           Champagne          Champagne   \n",
       "150927    Terre di Dora      91   20.0      Southern Italy  Fiano di Avellino   \n",
       "150928  Grand Brut Rosé      90   52.0           Champagne          Champagne   \n",
       "150929              NaN      90   15.0  Northeastern Italy         Alto Adige   \n",
       "\n",
       "       region_2          variety                 winery  \n",
       "150925      NaN      White Blend  Feudi di San Gregorio  \n",
       "150926      NaN  Champagne Blend              H.Germain  \n",
       "150927      NaN      White Blend              Terredora  \n",
       "150928      NaN  Champagne Blend                 Gosset  \n",
       "150929      NaN     Pinot Grigio          Alois Lageder  "
      ]
     },
     "metadata": {},
     "output_type": "display_data"
    }
   ],
   "source": [
    "display(wine_price.tail())"
   ]
  },
  {
   "cell_type": "code",
   "execution_count": 19,
   "metadata": {},
   "outputs": [
    {
     "name": "stdout",
     "output_type": "stream",
     "text": [
      "Original dataset shape: (150930, 11)\n",
      "Cleaned dataset shape: (150930, 11)\n"
     ]
    }
   ],
   "source": [
    "data = wine_price \n",
    "print('Original dataset shape:', wine_price.shape)\n",
    "\n",
    "# remove duplicates from the dataset\n",
    "wines_cleaned = wine_price.drop_duplicates()\n",
    "\n",
    "# print the number of rows in the cleaned dataset\n",
    "print('Cleaned dataset shape:', wines_cleaned.shape)"
   ]
  },
  {
   "cell_type": "code",
   "execution_count": 6,
   "metadata": {},
   "outputs": [
    {
     "name": "stdout",
     "output_type": "stream",
     "text": [
      "Number of wines from Vinho Verde region: 396\n"
     ]
    }
   ],
   "source": [
    "data = wine_price\n",
    "# Count the number of wines from the Vinho Verde region\n",
    "num_vinho_verde = len(wines_cleaned[wines_cleaned['province'] == 'Vinho Verde'])\n",
    "\n",
    "# Print the results\n",
    "print(f'Number of wines from Vinho Verde region: {num_vinho_verde}')\n"
   ]
  },
  {
   "cell_type": "code",
   "execution_count": 7,
   "metadata": {},
   "outputs": [
    {
     "name": "stdout",
     "output_type": "stream",
     "text": [
      "Empty DataFrame\n",
      "Columns: [Unnamed: 0, country, description, designation, points, price, province, region_1, region_2, variety, winery]\n",
      "Index: []\n",
      "Number of wines from Portugal: 5322\n"
     ]
    }
   ],
   "source": [
    "wines_cleaned \n",
    "filtered_wines = wine_price[(wine_price['region_1'] == 'Portugal')]\n",
    "\n",
    "# View the filtered DataFrame\n",
    "print(filtered_wines)\n",
    "\n",
    "# Count the number of wines from Portugal\n",
    "num_portugal = len(wines_cleaned[wines_cleaned['country'] == 'Portugal'])\n",
    "\n",
    "\n",
    "# Print the results\n",
    "print(f'Number of wines from Portugal: {num_portugal}')\n"
   ]
  },
  {
   "cell_type": "code",
   "execution_count": 14,
   "metadata": {},
   "outputs": [
    {
     "data": {
      "image/png": "[encoded data removed]",
      "text/plain": [
       "<Figure size 640x480 with 1 Axes>"
      ]
     },
     "metadata": {},
     "output_type": "display_data"
    }
   ],
   "source": [
    "###Piechart\n",
    "\n",
    "import matplotlib.pyplot as plt\n",
    "\n",
    "# Data\n",
    "labels = ['Portugal', 'Vinho Verde']\n",
    "sizes = [5322, 396]\n",
    "\n",
    "# Plot\n",
    "fig, ax = plt.subplots()\n",
    "ax.pie(sizes, labels=labels, autopct='%1.1f%%', startangle=90)\n",
    "ax.axis('equal')  # Equal aspect ratio ensures that pie is drawn as a circle.\n",
    "ax.set_title('Number of Wines per Region/Country')\n",
    "\n",
    "plt.show()\n",
    "\n",
    "\n"
   ]
  },
  {
   "cell_type": "code",
   "execution_count": 96,
   "metadata": {},
   "outputs": [
    {
     "name": "stdout",
     "output_type": "stream",
     "text": [
      "Number of wines from Vinho Verde region after outlier removal: 296\n"
     ]
    }
   ],
   "source": [
    "data =wine_price\n",
    "\n",
    "# Filter the dataframe to include only Vinho Verde province\n",
    "wine_vinho_verde = wine_price[wine_price[\"province\"] == \"Vinho Verde\"]\n",
    "\n",
    "# Calculate the IQR of the price column\n",
    "q1 = wine_vinho_verde[\"price\"].quantile(0.25)\n",
    "q3 = wine_vinho_verde[\"price\"].quantile(0.75)\n",
    "iqr = q3 - q1\n",
    "\n",
    "# Define the upper and lower bounds for outlier removal\n",
    "lower_bound = q1 - 1.5*iqr\n",
    "upper_bound = q3 + 1.5*iqr\n",
    "\n",
    "# Remove the outliers from the price column\n",
    "wine_vinho_verde = wine_vinho_verde[(wine_vinho_verde[\"price\"] >= lower_bound) & (wine_vinho_verde[\"price\"] <= upper_bound)]\n",
    "\n",
    "# Print the number of wines after filtering and outlier removal\n",
    "print(\"Number of wines from Vinho Verde region after outlier removal:\", len(wine_vinho_verde))\n"
   ]
  },
  {
   "cell_type": "code",
   "execution_count": 98,
   "metadata": {},
   "outputs": [
    {
     "name": "stdout",
     "output_type": "stream",
     "text": [
      "              min   max       mean  median\n",
      "price_level                               \n",
      "Low           5.0  10.0   8.207317     8.0\n",
      "Medium       11.0  15.0  12.630000    12.0\n",
      "High         16.0  20.0  17.656250    17.5\n"
     ]
    }
   ],
   "source": [
    "data = wine_price\n",
    "\n",
    "# Filter for only the Vinho Verde province\n",
    "vinho_verde = wine_price[wine_price['province'] == 'Vinho Verde']\n",
    "\n",
    "# Remove outliers from the price column using IQR method\n",
    "Q1 = vinho_verde['price'].quantile(0.25)\n",
    "Q3 = vinho_verde['price'].quantile(0.75)\n",
    "IQR = Q3 - Q1\n",
    "vinho_verde = vinho_verde[(vinho_verde['price'] >= Q1 - 1.5*IQR) & (vinho_verde['price'] <= Q3 + 1.5*IQR)]\n",
    "\n",
    "# Cut the price into 3 levels\n",
    "vinho_verde['price_level'] = pd.cut(vinho_verde['price'], 3, labels=['Low', 'Medium', 'High'])\n",
    "\n",
    "# Calculate min_price, max_price, mean_price and median_price for each price_level\n",
    "price_stats = vinho_verde.groupby('price_level')['price'].agg(['min', 'max', 'mean', 'median'])\n",
    "\n",
    "print(price_stats)\n"
   ]
  },
  {
   "attachments": {},
   "cell_type": "markdown",
   "metadata": {},
   "source": [
    "using the points in the dataset"
   ]
  },
  {
   "cell_type": "code",
   "execution_count": 28,
   "metadata": {},
   "outputs": [
    {
     "name": "stdout",
     "output_type": "stream",
     "text": [
      "There are 5 missing values in the 'country' column.\n",
      "5\n",
      "0\n"
     ]
    }
   ],
   "source": [
    "# check for missing values in the 'column_name' column of the DataFrame\n",
    "missing_values = data= wine_price['country'].isnull().sum()\n",
    "\n",
    "# print the number of missing values\n",
    "print(f\"There are {missing_values} missing values in the 'country' column.\")\n",
    "# check for missing values in the 'country' column\n",
    "print(wine_price['country'].isnull().sum())\n",
    "\n",
    "# fill missing values with mode value\n",
    "mode_value = wine_price['country'].mode()[0]\n",
    "wine_price['country'].fillna(mode_value, inplace=True)\n",
    "\n",
    "# check again for missing values\n",
    "print(wine_price['country'].isnull().sum())\n",
    "\n"
   ]
  },
  {
   "cell_type": "code",
   "execution_count": 31,
   "metadata": {},
   "outputs": [
    {
     "name": "stdout",
     "output_type": "stream",
     "text": [
      "['Albania', 'Argentina', 'Australia', 'Austria', 'Bosnia and Herzegovina', 'Brazil', 'Bulgaria', 'Canada', 'Chile', 'China', 'Croatia', 'Cyprus', 'Czech Republic', 'Egypt', 'England', 'France', 'Georgia', 'Germany', 'Greece', 'Hungary', 'India', 'Israel', 'Italy', 'Japan', 'Lebanon', 'Lithuania', 'Luxembourg', 'Macedonia', 'Mexico', 'Moldova', 'Montenegro', 'Morocco', 'New Zealand', 'Portugal', 'Romania', 'Serbia', 'Slovakia', 'Slovenia', 'South Africa', 'South Korea', 'Spain', 'Switzerland', 'Tunisia', 'Turkey', 'US', 'US-France', 'Ukraine', 'Uruguay']\n"
     ]
    }
   ],
   "source": [
    "data = wine_price\n",
    "countries = sorted(wine_price['country'].unique())\n",
    "data['country'] = data['country'].astype(str)\n",
    "print(countries)\n"
   ]
  },
  {
   "cell_type": "code",
   "execution_count": 32,
   "metadata": {},
   "outputs": [
    {
     "name": "stdout",
     "output_type": "stream",
     "text": [
      "US                        62402\n",
      "Italy                     23478\n",
      "France                    21098\n",
      "Spain                      8268\n",
      "Chile                      5816\n",
      "Argentina                  5631\n",
      "Portugal                   5322\n",
      "Australia                  4957\n",
      "New Zealand                3320\n",
      "Austria                    3057\n",
      "Germany                    2452\n",
      "South Africa               2258\n",
      "Greece                      884\n",
      "Israel                      630\n",
      "Hungary                     231\n",
      "Canada                      196\n",
      "Romania                     139\n",
      "Slovenia                     94\n",
      "Uruguay                      92\n",
      "Croatia                      89\n",
      "Bulgaria                     77\n",
      "Moldova                      71\n",
      "Mexico                       63\n",
      "Turkey                       52\n",
      "Georgia                      43\n",
      "Lebanon                      37\n",
      "Cyprus                       31\n",
      "Brazil                       25\n",
      "Macedonia                    16\n",
      "Serbia                       14\n",
      "Morocco                      12\n",
      "England                       9\n",
      "Luxembourg                    9\n",
      "Lithuania                     8\n",
      "India                         8\n",
      "Czech Republic                6\n",
      "Ukraine                       5\n",
      "Switzerland                   4\n",
      "South Korea                   4\n",
      "Bosnia and Herzegovina        4\n",
      "China                         3\n",
      "Egypt                         3\n",
      "Slovakia                      3\n",
      "Tunisia                       2\n",
      "Albania                       2\n",
      "Montenegro                    2\n",
      "Japan                         2\n",
      "US-France                     1\n",
      "Name: country, dtype: int64\n"
     ]
    }
   ],
   "source": [
    "data =wine_price\n",
    "\n",
    "\n",
    "# Count the number of occurrences of each country\n",
    "country_counts = wine_price['country'].value_counts()\n",
    "\n",
    "# Print the results\n",
    "print(country_counts)\n"
   ]
  },
  {
   "cell_type": "code",
   "execution_count": 99,
   "metadata": {},
   "outputs": [
    {
     "name": "stdout",
     "output_type": "stream",
     "text": [
      "             mean  median\n",
      "points                   \n",
      "80       8.000000     8.0\n",
      "82       8.300000     9.5\n",
      "83       7.500000     8.0\n",
      "84       8.244444     8.0\n",
      "85       9.918033     9.0\n",
      "86      10.225806    10.0\n",
      "87      12.714286    12.0\n",
      "88      12.847826    12.0\n",
      "89      13.653846    12.0\n",
      "90      15.657143    16.0\n",
      "91      16.428571    16.0\n",
      "92      31.000000    33.0\n"
     ]
    }
   ],
   "source": [
    "data =wine_price\n",
    "\n",
    "# Filter wines from Vinho Verde\n",
    "vinho_verde = wine_price[wine_price['province'] == 'Vinho Verde']\n",
    "\n",
    "# Group the wines by their point ratings and calculate mean/median price for each group\n",
    "price_by_points = vinho_verde.groupby('points')['price'].agg(['mean', 'median'])\n",
    "\n",
    "# Print the results\n",
    "print(price_by_points)\n"
   ]
  },
  {
   "attachments": {},
   "cell_type": "markdown",
   "metadata": {},
   "source": [
    "Wines rated 80-84 points: $10-$12\n",
    "Wines rated 85-89 points: $11-$16\n",
    "Wines rated 90-94 points: $17-$44 (depending on the specific point rating)\n",
    "Wines rated 95 points or higher: No data available"
   ]
  },
  {
   "attachments": {},
   "cell_type": "markdown",
   "metadata": {},
   "source": [
    "getting price per wine based on score for entire data set "
   ]
  },
  {
   "cell_type": "code",
   "execution_count": 11,
   "metadata": {},
   "outputs": [
    {
     "name": "stdout",
     "output_type": "stream",
     "text": [
      "              mean  median\n",
      "points                    \n",
      "80       15.714286    12.0\n",
      "81       16.166667    10.5\n",
      "82       18.204545    12.0\n",
      "83       14.094017     9.0\n",
      "84       12.954386    10.0\n",
      "85       11.967901    10.0\n",
      "86       14.196682    11.0\n",
      "87       19.064073    14.0\n",
      "88       20.457195    16.0\n",
      "89       23.211236    19.0\n",
      "90       28.268390    21.0\n",
      "91       34.564767    25.0\n",
      "92       42.284672    32.5\n",
      "93       61.088050    50.0\n",
      "94       78.412500    60.0\n",
      "95      143.030303    90.0\n",
      "96      159.666667   100.0\n",
      "97      119.000000    95.0\n",
      "99      426.000000   426.0\n"
     ]
    }
   ],
   "source": [
    "data =wine_price\n",
    "Portugal = wine_price[wine_price['country'] == 'Portugal']\n",
    "\n",
    "# Group the wines by their point ratings and calculate mean/median price for each group\n",
    "price_by_points = Portugal.groupby('points')['price'].agg(['mean', 'median'])\n",
    "\n",
    "# Print the results\n",
    "print(price_by_points)"
   ]
  },
  {
   "cell_type": "code",
   "execution_count": 12,
   "metadata": {},
   "outputs": [
    {
     "name": "stdout",
     "output_type": "stream",
     "text": [
      "              min   max       mean  median\n",
      "price_level                               \n",
      "Low           4.0  21.0  12.979284    13.0\n",
      "Medium       22.0  38.0  27.960610    27.0\n",
      "High         39.0  56.0  46.370474    45.0\n"
     ]
    }
   ],
   "source": [
    "data = wine_price\n",
    "\n",
    "# Filter for only the Vinho Verde province\n",
    "Portugal= wine_price[wine_price['country'] == 'Portugal']\n",
    "\n",
    "# Remove outliers from the price column using IQR method\n",
    "Q1 = Portugal['price'].quantile(0.25)\n",
    "Q3 = Portugal['price'].quantile(0.75)\n",
    "IQR = Q3 - Q1\n",
    "Portugal = Portugal[(Portugal['price'] >= Q1 - 1.5*IQR) & (Portugal['price'] <= Q3 + 1.5*IQR)]\n",
    "\n",
    "# Cut the price into 3 levels\n",
    "Portugal['price_level'] = pd.cut(Portugal['price'], 3, labels=['Low', 'Medium', 'High'])\n",
    "\n",
    "# Calculate min_price, max_price, mean_price and median_price for each price_level\n",
    "price_stats = Portugal.groupby('price_level')['price'].agg(['min', 'max', 'mean', 'median'])\n",
    "\n",
    "print(price_stats)"
   ]
  }
 ],
 "metadata": {
  "kernelspec": {
   "display_name": "CodeAcademy",
   "language": "python",
   "name": "python3"
  },
  "language_info": {
   "codemirror_mode": {
    "name": "ipython",
    "version": 3
   },
   "file_extension": ".py",
   "mimetype": "text/x-python",
   "name": "python",
   "nbconvert_exporter": "python",
   "pygments_lexer": "ipython3",
   "version": "3.11.0"
  },
  "orig_nbformat": 4
 },
 "nbformat": 4,
 "nbformat_minor": 2
}
