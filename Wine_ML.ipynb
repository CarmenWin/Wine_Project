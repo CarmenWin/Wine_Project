{
 "cells": [
  {
   "attachments": {},
   "cell_type": "markdown",
   "metadata": {},
   "source": [
    "### Project 2 Blueberry Winery EDA #####"
   ]
  },
  {
   "cell_type": "code",
   "execution_count": 3,
   "metadata": {},
   "outputs": [],
   "source": [
    "import pandas as pd\n",
    "import seaborn as sns\n",
    "import matplotlib as plt"
   ]
  },
  {
   "cell_type": "code",
   "execution_count": 4,
   "metadata": {},
   "outputs": [
    {
     "data": {
      "text/html": [
       "<div>\n",
       "<style scoped>\n",
       "    .dataframe tbody tr th:only-of-type {\n",
       "        vertical-align: middle;\n",
       "    }\n",
       "\n",
       "    .dataframe tbody tr th {\n",
       "        vertical-align: top;\n",
       "    }\n",
       "\n",
       "    .dataframe thead th {\n",
       "        text-align: right;\n",
       "    }\n",
       "</style>\n",
       "<table border=\"1\" class=\"dataframe\">\n",
       "  <thead>\n",
       "    <tr style=\"text-align: right;\">\n",
       "      <th></th>\n",
       "      <th>fixed acidity</th>\n",
       "      <th>volatile acidity</th>\n",
       "      <th>citric acid</th>\n",
       "      <th>residual sugar</th>\n",
       "      <th>chlorides</th>\n",
       "      <th>free sulfur dioxide</th>\n",
       "      <th>total sulfur dioxide</th>\n",
       "      <th>density</th>\n",
       "      <th>pH</th>\n",
       "      <th>sulphates</th>\n",
       "      <th>alcohol</th>\n",
       "      <th>quality</th>\n",
       "    </tr>\n",
       "  </thead>\n",
       "  <tbody>\n",
       "    <tr>\n",
       "      <th>0</th>\n",
       "      <td>7.4</td>\n",
       "      <td>0.70</td>\n",
       "      <td>0.00</td>\n",
       "      <td>1.9</td>\n",
       "      <td>0.076</td>\n",
       "      <td>11.0</td>\n",
       "      <td>34.0</td>\n",
       "      <td>0.9978</td>\n",
       "      <td>3.51</td>\n",
       "      <td>0.56</td>\n",
       "      <td>9.4</td>\n",
       "      <td>5</td>\n",
       "    </tr>\n",
       "    <tr>\n",
       "      <th>1</th>\n",
       "      <td>7.8</td>\n",
       "      <td>0.88</td>\n",
       "      <td>0.00</td>\n",
       "      <td>2.6</td>\n",
       "      <td>0.098</td>\n",
       "      <td>25.0</td>\n",
       "      <td>67.0</td>\n",
       "      <td>0.9968</td>\n",
       "      <td>3.20</td>\n",
       "      <td>0.68</td>\n",
       "      <td>9.8</td>\n",
       "      <td>5</td>\n",
       "    </tr>\n",
       "    <tr>\n",
       "      <th>2</th>\n",
       "      <td>7.8</td>\n",
       "      <td>0.76</td>\n",
       "      <td>0.04</td>\n",
       "      <td>2.3</td>\n",
       "      <td>0.092</td>\n",
       "      <td>15.0</td>\n",
       "      <td>54.0</td>\n",
       "      <td>0.9970</td>\n",
       "      <td>3.26</td>\n",
       "      <td>0.65</td>\n",
       "      <td>9.8</td>\n",
       "      <td>5</td>\n",
       "    </tr>\n",
       "    <tr>\n",
       "      <th>3</th>\n",
       "      <td>11.2</td>\n",
       "      <td>0.28</td>\n",
       "      <td>0.56</td>\n",
       "      <td>1.9</td>\n",
       "      <td>0.075</td>\n",
       "      <td>17.0</td>\n",
       "      <td>60.0</td>\n",
       "      <td>0.9980</td>\n",
       "      <td>3.16</td>\n",
       "      <td>0.58</td>\n",
       "      <td>9.8</td>\n",
       "      <td>6</td>\n",
       "    </tr>\n",
       "    <tr>\n",
       "      <th>4</th>\n",
       "      <td>7.4</td>\n",
       "      <td>0.70</td>\n",
       "      <td>0.00</td>\n",
       "      <td>1.9</td>\n",
       "      <td>0.076</td>\n",
       "      <td>11.0</td>\n",
       "      <td>34.0</td>\n",
       "      <td>0.9978</td>\n",
       "      <td>3.51</td>\n",
       "      <td>0.56</td>\n",
       "      <td>9.4</td>\n",
       "      <td>5</td>\n",
       "    </tr>\n",
       "  </tbody>\n",
       "</table>\n",
       "</div>"
      ],
      "text/plain": [
       "   fixed acidity  volatile acidity  citric acid  residual sugar  chlorides  \\\n",
       "0            7.4              0.70         0.00             1.9      0.076   \n",
       "1            7.8              0.88         0.00             2.6      0.098   \n",
       "2            7.8              0.76         0.04             2.3      0.092   \n",
       "3           11.2              0.28         0.56             1.9      0.075   \n",
       "4            7.4              0.70         0.00             1.9      0.076   \n",
       "\n",
       "   free sulfur dioxide  total sulfur dioxide  density    pH  sulphates  \\\n",
       "0                 11.0                  34.0   0.9978  3.51       0.56   \n",
       "1                 25.0                  67.0   0.9968  3.20       0.68   \n",
       "2                 15.0                  54.0   0.9970  3.26       0.65   \n",
       "3                 17.0                  60.0   0.9980  3.16       0.58   \n",
       "4                 11.0                  34.0   0.9978  3.51       0.56   \n",
       "\n",
       "   alcohol  quality  \n",
       "0      9.4        5  \n",
       "1      9.8        5  \n",
       "2      9.8        5  \n",
       "3      9.8        6  \n",
       "4      9.4        5  "
      ]
     },
     "metadata": {},
     "output_type": "display_data"
    }
   ],
   "source": [
    "red_wine = pd.read_csv('winequality-red.csv', sep=';')\n",
    "\n",
    "display(red_wine.head())"
   ]
  },
  {
   "cell_type": "code",
   "execution_count": 5,
   "metadata": {},
   "outputs": [
    {
     "data": {
      "text/html": [
       "<div>\n",
       "<style scoped>\n",
       "    .dataframe tbody tr th:only-of-type {\n",
       "        vertical-align: middle;\n",
       "    }\n",
       "\n",
       "    .dataframe tbody tr th {\n",
       "        vertical-align: top;\n",
       "    }\n",
       "\n",
       "    .dataframe thead th {\n",
       "        text-align: right;\n",
       "    }\n",
       "</style>\n",
       "<table border=\"1\" class=\"dataframe\">\n",
       "  <thead>\n",
       "    <tr style=\"text-align: right;\">\n",
       "      <th></th>\n",
       "      <th>fixed acidity</th>\n",
       "      <th>volatile acidity</th>\n",
       "      <th>citric acid</th>\n",
       "      <th>residual sugar</th>\n",
       "      <th>chlorides</th>\n",
       "      <th>free sulfur dioxide</th>\n",
       "      <th>total sulfur dioxide</th>\n",
       "      <th>density</th>\n",
       "      <th>pH</th>\n",
       "      <th>sulphates</th>\n",
       "      <th>alcohol</th>\n",
       "      <th>quality</th>\n",
       "    </tr>\n",
       "  </thead>\n",
       "  <tbody>\n",
       "    <tr>\n",
       "      <th>0</th>\n",
       "      <td>7.0</td>\n",
       "      <td>0.27</td>\n",
       "      <td>0.36</td>\n",
       "      <td>20.7</td>\n",
       "      <td>0.045</td>\n",
       "      <td>45.0</td>\n",
       "      <td>170.0</td>\n",
       "      <td>1.0010</td>\n",
       "      <td>3.00</td>\n",
       "      <td>0.45</td>\n",
       "      <td>8.8</td>\n",
       "      <td>6</td>\n",
       "    </tr>\n",
       "    <tr>\n",
       "      <th>1</th>\n",
       "      <td>6.3</td>\n",
       "      <td>0.30</td>\n",
       "      <td>0.34</td>\n",
       "      <td>1.6</td>\n",
       "      <td>0.049</td>\n",
       "      <td>14.0</td>\n",
       "      <td>132.0</td>\n",
       "      <td>0.9940</td>\n",
       "      <td>3.30</td>\n",
       "      <td>0.49</td>\n",
       "      <td>9.5</td>\n",
       "      <td>6</td>\n",
       "    </tr>\n",
       "    <tr>\n",
       "      <th>2</th>\n",
       "      <td>8.1</td>\n",
       "      <td>0.28</td>\n",
       "      <td>0.40</td>\n",
       "      <td>6.9</td>\n",
       "      <td>0.050</td>\n",
       "      <td>30.0</td>\n",
       "      <td>97.0</td>\n",
       "      <td>0.9951</td>\n",
       "      <td>3.26</td>\n",
       "      <td>0.44</td>\n",
       "      <td>10.1</td>\n",
       "      <td>6</td>\n",
       "    </tr>\n",
       "    <tr>\n",
       "      <th>3</th>\n",
       "      <td>7.2</td>\n",
       "      <td>0.23</td>\n",
       "      <td>0.32</td>\n",
       "      <td>8.5</td>\n",
       "      <td>0.058</td>\n",
       "      <td>47.0</td>\n",
       "      <td>186.0</td>\n",
       "      <td>0.9956</td>\n",
       "      <td>3.19</td>\n",
       "      <td>0.40</td>\n",
       "      <td>9.9</td>\n",
       "      <td>6</td>\n",
       "    </tr>\n",
       "    <tr>\n",
       "      <th>4</th>\n",
       "      <td>7.2</td>\n",
       "      <td>0.23</td>\n",
       "      <td>0.32</td>\n",
       "      <td>8.5</td>\n",
       "      <td>0.058</td>\n",
       "      <td>47.0</td>\n",
       "      <td>186.0</td>\n",
       "      <td>0.9956</td>\n",
       "      <td>3.19</td>\n",
       "      <td>0.40</td>\n",
       "      <td>9.9</td>\n",
       "      <td>6</td>\n",
       "    </tr>\n",
       "  </tbody>\n",
       "</table>\n",
       "</div>"
      ],
      "text/plain": [
       "   fixed acidity  volatile acidity  citric acid  residual sugar  chlorides  \\\n",
       "0            7.0              0.27         0.36            20.7      0.045   \n",
       "1            6.3              0.30         0.34             1.6      0.049   \n",
       "2            8.1              0.28         0.40             6.9      0.050   \n",
       "3            7.2              0.23         0.32             8.5      0.058   \n",
       "4            7.2              0.23         0.32             8.5      0.058   \n",
       "\n",
       "   free sulfur dioxide  total sulfur dioxide  density    pH  sulphates  \\\n",
       "0                 45.0                 170.0   1.0010  3.00       0.45   \n",
       "1                 14.0                 132.0   0.9940  3.30       0.49   \n",
       "2                 30.0                  97.0   0.9951  3.26       0.44   \n",
       "3                 47.0                 186.0   0.9956  3.19       0.40   \n",
       "4                 47.0                 186.0   0.9956  3.19       0.40   \n",
       "\n",
       "   alcohol  quality  \n",
       "0      8.8        6  \n",
       "1      9.5        6  \n",
       "2     10.1        6  \n",
       "3      9.9        6  \n",
       "4      9.9        6  "
      ]
     },
     "metadata": {},
     "output_type": "display_data"
    }
   ],
   "source": [
    "white_wine = pd.read_csv('winequality-white.csv', sep=';')\n",
    "\n",
    "# df = pd.read_csv('example.csv', sep=';')\n",
    "\n",
    "display(white_wine.head())"
   ]
  },
  {
   "attachments": {},
   "cell_type": "markdown",
   "metadata": {},
   "source": [
    "# observe for missing vaules use isna and insnull #"
   ]
  },
  {
   "cell_type": "code",
   "execution_count": 10,
   "metadata": {},
   "outputs": [
    {
     "name": "stdout",
     "output_type": "stream",
     "text": [
      "fixed acidity           0\n",
      "volatile acidity        0\n",
      "citric acid             0\n",
      "residual sugar          0\n",
      "chlorides               0\n",
      "free sulfur dioxide     0\n",
      "total sulfur dioxide    0\n",
      "density                 0\n",
      "pH                      0\n",
      "sulphates               0\n",
      "alcohol                 0\n",
      "quality                 0\n",
      "dtype: int64\n"
     ]
    }
   ],
   "source": [
    "# Check for missing values using isna() or isnull() #sum is counting how many rows a 0 value shows \n",
    "print(red_wine.isna().sum())\n"
   ]
  },
  {
   "cell_type": "code",
   "execution_count": 11,
   "metadata": {},
   "outputs": [
    {
     "name": "stdout",
     "output_type": "stream",
     "text": [
      "fixed acidity           0\n",
      "volatile acidity        0\n",
      "citric acid             0\n",
      "residual sugar          0\n",
      "chlorides               0\n",
      "free sulfur dioxide     0\n",
      "total sulfur dioxide    0\n",
      "density                 0\n",
      "pH                      0\n",
      "sulphates               0\n",
      "alcohol                 0\n",
      "quality                 0\n",
      "dtype: int64\n"
     ]
    }
   ],
   "source": [
    "print(white_wine.isnull().sum())"
   ]
  },
  {
   "attachments": {},
   "cell_type": "markdown",
   "metadata": {},
   "source": [
    "# same plot for white wine #"
   ]
  },
  {
   "cell_type": "code",
   "execution_count": 114,
   "metadata": {},
   "outputs": [],
   "source": [
    "red_wine['wine_type'] = 'red'\n",
    "white_wine['wine_type'] = 'white'\n",
    "\n",
    "# concatenate the two datasets\n",
    "wine = pd.concat([red_wine, white_wine])"
   ]
  },
  {
   "attachments": {},
   "cell_type": "markdown",
   "metadata": {},
   "source": [
    "# Univariant Analysis, copying code from the LMS, Sprint 2 #"
   ]
  },
  {
   "cell_type": "code",
   "execution_count": 21,
   "metadata": {},
   "outputs": [
    {
     "name": "stdout",
     "output_type": "stream",
     "text": [
      "ANOVA test for mean alcohol levels across wine samples with different quality ratings\n",
      "F Statistic: 205.23448800361507 \tp-value: 4.776936653588672e-80\n"
     ]
    }
   ],
   "source": [
    "from scipy import stats\n",
    "\n",
    "F, p = stats.f_oneway(red_wine[red_wine['quality_label'] == 'low']['alcohol'],\n",
    "red_wine[red_wine['quality_label'] == 'medium']['alcohol'],\n",
    "red_wine[red_wine['quality_label'] == 'high']['alcohol'])\n",
    "print('ANOVA test for mean alcohol levels across wine samples with different quality ratings')\n",
    "print('F Statistic:', F, '\\tp-value:', p)"
   ]
  },
  {
   "cell_type": "code",
   "execution_count": 22,
   "metadata": {},
   "outputs": [
    {
     "name": "stdout",
     "output_type": "stream",
     "text": [
      "ANOVA test for mean alcohol levels across white wine samples with different quality ratings\n",
      "F Statistic: 478.1628922043277 \tp-value: 2.0647901873531918e-190\n"
     ]
    }
   ],
   "source": [
    "from scipy import stats\n",
    "\n",
    "F, p = stats.f_oneway(white_wine[white_wine['quality_label'] == 'low']['alcohol'],\n",
    "white_wine[white_wine['quality_label'] == 'medium']['alcohol'],\n",
    "white_wine[white_wine['quality_label'] == 'high']['alcohol'])\n",
    "print('ANOVA test for mean alcohol levels across white wine samples with different quality ratings')\n",
    "print('F Statistic:', F, '\\tp-value:', p)"
   ]
  },
  {
   "attachments": {},
   "cell_type": "markdown",
   "metadata": {},
   "source": [
    "# trying univariant analysis now with different variables"
   ]
  },
  {
   "cell_type": "code",
   "execution_count": null,
   "metadata": {},
   "outputs": [
    {
     "name": "stdout",
     "output_type": "stream",
     "text": [
      "ANOVA test for mean residual sugar levels in red wine across different quality levels\n",
      "F Statistic: 0.011800296751587022 \tp-value: 0.9882691399198739\n"
     ]
    }
   ],
   "source": [
    "from scipy import stats\n",
    "\n",
    "F, p = stats.f_oneway(red_wine[red_wine['quality_label'] == 'low']['residual sugar'],\n",
    "red_wine[red_wine['quality_label'] == 'medium']['residual sugar'],\n",
    "red_wine[red_wine['quality_label'] == 'high']['residual sugar'])\n",
    "print('ANOVA test for mean residual sugar levels in red wine across different quality levels')\n",
    "print('F Statistic:', F, '\\tp-value:', p)"
   ]
  },
  {
   "cell_type": "code",
   "execution_count": null,
   "metadata": {},
   "outputs": [
    {
     "name": "stdout",
     "output_type": "stream",
     "text": [
      "ANOVA test for mean residual sugar levels across white wine samples with different quality ratings\n",
      "F Statistic: 21.934773835107606 \tp-value: 3.2830889157949124e-10\n"
     ]
    }
   ],
   "source": [
    "\n",
    "F, p = stats.f_oneway(white_wine[white_wine['quality_label'] == 'low']['residual sugar'],\n",
    "white_wine[white_wine['quality_label'] == 'medium']['residual sugar'],\n",
    "white_wine[white_wine['quality_label'] == 'high']['residual sugar'])\n",
    "print('ANOVA test for mean residual sugar levels across white wine samples with different quality ratings')\n",
    "print('F Statistic:', F, '\\tp-value:', p)"
   ]
  },
  {
   "cell_type": "code",
   "execution_count": null,
   "metadata": {},
   "outputs": [
    {
     "name": "stdout",
     "output_type": "stream",
     "text": [
      "ANOVA test for mean residual sugar levels across white wine samples with different quality ratings\n",
      "F Statistic: 21.934773835107606 \tp-value: 3.2830889157949124e-10\n"
     ]
    }
   ],
   "source": [
    "F, p = stats.f_oneway(white_wine[white_wine['quality_label'] == 'low']['residual sugar'],\n",
    "white_wine[white_wine['quality_label'] == 'medium']['residual sugar'],\n",
    "white_wine[white_wine['quality_label'] == 'high']['residual sugar'])\n",
    "print('ANOVA test for mean residual sugar levels across white wine samples with different quality ratings')\n",
    "print('F Statistic:', F, '\\tp-value:', p)"
   ]
  },
  {
   "attachments": {},
   "cell_type": "markdown",
   "metadata": {},
   "source": [
    "Red wine samples have higher acidity as compared to its white wine. Overall decrease in acidity with higher quality wine for red wine samples but not so much for white wine samples."
   ]
  },
  {
   "attachments": {},
   "cell_type": "markdown",
   "metadata": {},
   "source": [
    "Correlation based on Wine quality labels "
   ]
  },
  {
   "attachments": {},
   "cell_type": "markdown",
   "metadata": {},
   "source": [
    "check for citric acidity (according to the heatmap, there should be a high correlation between quality and citric acidity)"
   ]
  },
  {
   "cell_type": "code",
   "execution_count": 24,
   "metadata": {},
   "outputs": [
    {
     "name": "stdout",
     "output_type": "stream",
     "text": [
      "21.934773835107606 is the f value. And 3.2830889157949124e-10 is the p value between Quality and Residual Sugar\n"
     ]
    }
   ],
   "source": [
    "f , p =stats.f_oneway(white_wine[white_wine['quality_label']== 'low']['residual sugar'], \n",
    "                      white_wine[white_wine['quality_label']== 'medium']['residual sugar'], \n",
    "                      white_wine[white_wine['quality_label']== 'high']['residual sugar'] )\n",
    "\n",
    "print(f, \"is the f value. And\", p ,\"is the p value between Quality and Residual Sugar\")"
   ]
  },
  {
   "attachments": {},
   "cell_type": "markdown",
   "metadata": {},
   "source": [
    "The following cells are analyzing the correlation between Red Wine and sulphates/acidity because the visual analysis shows a correlation"
   ]
  },
  {
   "cell_type": "code",
   "execution_count": null,
   "metadata": {},
   "outputs": [
    {
     "name": "stdout",
     "output_type": "stream",
     "text": [
      "41.83852380407374 is the f value. And 1.9501375044481924e-18 is the p value between Quality and Sulphates\n"
     ]
    }
   ],
   "source": [
    "f , p =stats.f_oneway(red_wine[red_wine['quality_label']== 'low']['sulphates'], \n",
    "                      red_wine[red_wine['quality_label']== 'medium']['sulphates'], \n",
    "                      red_wine[red_wine['quality_label']== 'high']['sulphates'] )\n",
    "\n",
    "print(f, \"is the f value. And\", p ,\"is the p value between Quality and Sulphates\")"
   ]
  },
  {
   "cell_type": "code",
   "execution_count": null,
   "metadata": {},
   "outputs": [
    {
     "name": "stdout",
     "output_type": "stream",
     "text": [
      "22.85735545283018 is the f value. And 1.6318768805914607e-10 is the p value between Quality and Citric Acid\n"
     ]
    }
   ],
   "source": [
    "f , p =stats.f_oneway(red_wine[red_wine['quality_label']== 'low']['citric acid'], \n",
    "                      red_wine[red_wine['quality_label']== 'medium']['citric acid'], \n",
    "                      red_wine[red_wine['quality_label']== 'high']['citric acid'] )\n",
    "\n",
    "print(f, \"is the f value. And\", p ,\"is the p value between Quality and Citric Acid\")"
   ]
  },
  {
   "cell_type": "code",
   "execution_count": null,
   "metadata": {},
   "outputs": [
    {
     "name": "stdout",
     "output_type": "stream",
     "text": [
      "7.30844888128248 is the f value. And 0.0006925121552352699 is the p value between Quality and Fixed Acidity\n"
     ]
    }
   ],
   "source": [
    "f , p =stats.f_oneway(red_wine[red_wine['quality_label']== 'low']['fixed acidity'], \n",
    "                      red_wine[red_wine['quality_label']== 'medium']['fixed acidity'], \n",
    "                      red_wine[red_wine['quality_label']== 'high']['fixed acidity'] )\n",
    "\n",
    "print(f, \"is the f value. And\", p ,\"is the p value between Quality and Fixed Acidity\")"
   ]
  },
  {
   "cell_type": "code",
   "execution_count": null,
   "metadata": {},
   "outputs": [],
   "source": [
    "f , p =stats.f_oneway(red_wine[red_wine['quality_label']== 'low']['pH'], \n",
    "                      red_wine[red_wine['quality_label']== 'medium']['pH'], \n",
    "                      red_wine[red_wine['quality_label']== 'high']['pH'] )\n",
    "\n",
    "print(f, \"is the f value. And\", p ,\"is the p value between Quality and pH\")"
   ]
  },
  {
   "cell_type": "code",
   "execution_count": 25,
   "metadata": {},
   "outputs": [
    {
     "name": "stdout",
     "output_type": "stream",
     "text": [
      "19.690945958199926 is the f value. And 3.0377212959215113e-09 is the p value between Quality and pH\n"
     ]
    }
   ],
   "source": [
    "f , p =stats.f_oneway(white_wine[white_wine['quality_label']== 'low']['pH'], \n",
    "                      white_wine[white_wine['quality_label']== 'medium']['pH'], \n",
    "                      white_wine[white_wine['quality_label']== 'high']['pH'] )\n",
    "\n",
    "print(f, \"is the f value. And\", p ,\"is the p value between Quality and pH\")"
   ]
  },
  {
   "cell_type": "code",
   "execution_count": 27,
   "metadata": {},
   "outputs": [
    {
     "name": "stdout",
     "output_type": "stream",
     "text": [
      "25.018992085108984 is the f value. And 2.0009732581386505e-11 is the p value between Quality and Density\n"
     ]
    }
   ],
   "source": [
    "f , p =stats.f_oneway(red_wine[red_wine['quality_label']== 'low']['density'], \n",
    "                      red_wine[red_wine['quality_label']== 'medium']['density'], \n",
    "                      red_wine[red_wine['quality_label']== 'high']['density'] )\n",
    "\n",
    "print(f, \"is the f value. And\", p ,\"is the p value between Quality and Density\")"
   ]
  },
  {
   "cell_type": "code",
   "execution_count": 28,
   "metadata": {},
   "outputs": [
    {
     "name": "stdout",
     "output_type": "stream",
     "text": [
      "209.69457693191376 is the f value. And 4.1941323440944663e-88 is the p value between Quality and Density\n"
     ]
    }
   ],
   "source": [
    "f , p =stats.f_oneway(white_wine[white_wine['quality_label']== 'low']['density'], \n",
    "                      white_wine[white_wine['quality_label']== 'medium']['density'], \n",
    "                      white_wine[white_wine['quality_label']== 'high']['density'] )\n",
    "\n",
    "print(f, \"is the f value. And\", p ,\"is the p value between Quality and Density\")"
   ]
  },
  {
   "attachments": {},
   "cell_type": "markdown",
   "metadata": {},
   "source": [
    "Loop Anova for Red Wine Variables"
   ]
  },
  {
   "cell_type": "code",
   "execution_count": 233,
   "metadata": {},
   "outputs": [
    {
     "name": "stdout",
     "output_type": "stream",
     "text": [
      "ANOVA for fixed acidity:\n",
      "F-statistic: 17.92913816864048\n",
      "p-value: 2.4235009544154923e-05\n",
      "ANOVA for volatile acidity:\n",
      "F-statistic: 167.84025771997776\n",
      "p-value: 1.4232768243924989e-36\n",
      "ANOVA for citric acid:\n",
      "F-statistic: 112.1058823166366\n",
      "p-value: 2.295922033146771e-25\n",
      "ANOVA for residual sugar:\n",
      "F-statistic: 2.54555258655147\n",
      "p-value: 0.11080306592969805\n",
      "ANOVA for chlorides:\n",
      "F-statistic: 42.65060583323647\n",
      "p-value: 8.771011908789245e-11\n",
      "ANOVA for free sulfur dioxide:\n",
      "F-statistic: 3.9298814028088405\n",
      "p-value: 0.04760643127471169\n",
      "ANOVA for total sulfur dioxide:\n",
      "F-statistic: 33.360242334616004\n",
      "p-value: 9.186233391980173e-09\n",
      "ANOVA for density:\n",
      "F-statistic: 23.22330902201074\n",
      "p-value: 1.5793572950187614e-06\n",
      "ANOVA for pH:\n",
      "F-statistic: 3.504189367393373\n",
      "p-value: 0.061396444973214497\n",
      "ANOVA for sulphates:\n",
      "F-statistic: 215.1795179448197\n",
      "p-value: 8.437818737857038e-46\n",
      "ANOVA for alcohol:\n",
      "F-statistic: 317.6548626821125\n",
      "p-value: 6.006814498806281e-65\n"
     ]
    }
   ],
   "source": [
    "data= red_wine\n",
    "\n",
    "response = 'quality'\n",
    "\n",
    "# Define the list of predictor variables\n",
    "predictors = ['fixed acidity','volatile acidity', 'citric acid', 'residual sugar', 'chlorides',\n",
    "              'free sulfur dioxide', 'total sulfur dioxide', 'density', 'pH', 'sulphates', 'alcohol']\n",
    "\n",
    "# Loop through the predictor variables and run an ANOVA for each one\n",
    "for predictor in predictors:\n",
    "    group1 = red_wine.loc[red_wine[predictor] <= red_wine[predictor].median()][response]\n",
    "    group2 = red_wine.loc[red_wine[predictor] > red_wine[predictor].median()][response]\n",
    "    f_stat, p_val = stats.f_oneway(group1, group2)\n",
    "    print('ANOVA for {}:'.format(predictor))\n",
    "    print('F-statistic:', f_stat)\n",
    "    print('p-value:', p_val)\n"
   ]
  },
  {
   "attachments": {},
   "cell_type": "markdown",
   "metadata": {},
   "source": [
    "Anove Text for combined Wine Data "
   ]
  },
  {
   "cell_type": "code",
   "execution_count": 328,
   "metadata": {},
   "outputs": [
    {
     "name": "stdout",
     "output_type": "stream",
     "text": [
      "ANOVA for fixed acidity:\n",
      "F-statistic: 17.92913816864048\n",
      "p-value: 2.4235009544154923e-05\n",
      "ANOVA for volatile acidity:\n",
      "F-statistic: 167.84025771997776\n",
      "p-value: 1.4232768243924989e-36\n",
      "ANOVA for citric acid:\n",
      "F-statistic: 112.1058823166366\n",
      "p-value: 2.295922033146771e-25\n",
      "ANOVA for residual sugar:\n",
      "F-statistic: 2.54555258655147\n",
      "p-value: 0.11080306592969805\n",
      "ANOVA for chlorides:\n",
      "F-statistic: 42.65060583323647\n",
      "p-value: 8.771011908789245e-11\n",
      "ANOVA for free sulfur dioxide:\n",
      "F-statistic: 3.9298814028088405\n",
      "p-value: 0.04760643127471169\n",
      "ANOVA for total sulfur dioxide:\n",
      "F-statistic: 33.360242334616004\n",
      "p-value: 9.186233391980173e-09\n",
      "ANOVA for density:\n",
      "F-statistic: 23.22330902201074\n",
      "p-value: 1.5793572950187614e-06\n",
      "ANOVA for pH:\n",
      "F-statistic: 3.504189367393373\n",
      "p-value: 0.061396444973214497\n",
      "ANOVA for sulphates:\n",
      "F-statistic: 215.1795179448197\n",
      "p-value: 8.437818737857038e-46\n",
      "ANOVA for alcohol:\n",
      "F-statistic: 317.6548626821125\n",
      "p-value: 6.006814498806281e-65\n"
     ]
    }
   ],
   "source": [
    "combined_wine = pd.concat([red_wine, white_wine])\n",
    "\n",
    "\n",
    "response = 'quality'\n",
    "\n",
    "# Define the list of predictor variables\n",
    "predictors = ['fixed acidity','volatile acidity', 'citric acid', 'residual sugar', 'chlorides',\n",
    "              'free sulfur dioxide', 'total sulfur dioxide', 'density', 'pH', 'sulphates', 'alcohol']\n",
    "for predictor in predictors:\n",
    "    group1 = red_wine.loc[red_wine[predictor] <= red_wine[predictor].median()][response]\n",
    "    group2 = red_wine.loc[red_wine[predictor] > red_wine[predictor].median()][response]\n",
    "    f_stat, p_val = stats.f_oneway(group1, group2)\n",
    "    print('ANOVA for {}:'.format(predictor))\n",
    "    print('F-statistic:', f_stat)\n",
    "    print('p-value:', p_val)\n"
   ]
  },
  {
   "attachments": {},
   "cell_type": "markdown",
   "metadata": {},
   "source": [
    "## Sprint 3 ##"
   ]
  },
  {
   "attachments": {},
   "cell_type": "markdown",
   "metadata": {},
   "source": [
    "Preparing my Data for ML, convert categorical to binary data with one hot encoder ################ "
   ]
  },
  {
   "cell_type": "code",
   "execution_count": 15,
   "metadata": {},
   "outputs": [],
   "source": [
    "from sklearn.preprocessing import OneHotEncoder \n",
    "import numpy as np\n",
    "from scipy.stats import skew, kurtosis\n",
    "from sklearn.preprocessing import MinMaxScaler\n",
    "from sklearn.linear_model import LinearRegression\n",
    "from sklearn.model_selection import train_test_split\n",
    "from sklearn.metrics import mean_squared_error\n",
    "from sklearn.tree import DecisionTreeClassifier\n",
    "from sklearn.metrics import accuracy_score\n",
    "from patsy import dmatrices\n",
    "from statsmodels.stats.outliers_influence import variance_inflation_factor\n",
    "from sklearn.preprocessing import StandardScaler\n",
    "from sklearn.metrics import confusion_matrix\n",
    "from sklearn.linear_model import LogisticRegression\n",
    "from sklearn.naive_bayes import GaussianNB\n",
    "from sklearn.model_selection import train_test_split\n",
    "from sklearn.metrics import accuracy_score\n",
    "from sklearn.ensemble import RandomForestClassifier\n",
    "from sklearn.ensemble import RandomForestRegressor\n",
    "from sklearn.model_selection import StratifiedKFold\n",
    "\n"
   ]
  },
  {
   "attachments": {},
   "cell_type": "markdown",
   "metadata": {},
   "source": [
    "trying a first linear regression model for red wine quality and alcohol"
   ]
  },
  {
   "cell_type": "code",
   "execution_count": 169,
   "metadata": {},
   "outputs": [
    {
     "name": "stdout",
     "output_type": "stream",
     "text": [
      "Mean squared error: 0.4995281340730443\n"
     ]
    }
   ],
   "source": [
    "\n",
    "\n",
    "# Select the \"alcohol\" feature as the input variable (X) and the \"quality\" feature as the output variable (y)\n",
    "X = df[['alcohol']]\n",
    "y = df['quality']\n",
    "\n",
    "# Split the dataset into training and testing sets\n",
    "X_train, X_test, y_train, y_test = train_test_split(X, y, test_size=0.2, random_state=42)\n",
    "\n",
    "# Create a linear regression model and fit it to the training data\n",
    "model = LinearRegression()\n",
    "model.fit(X_train, y_train)\n",
    "\n",
    "# Use the model to make predictions on the testing data\n",
    "y_pred = model.predict(X_test)\n",
    "\n",
    "# Calculate the mean squared error of the model\n",
    "mse = mean_squared_error(y_test, y_pred)\n",
    "print('Mean squared error:', mse)"
   ]
  },
  {
   "cell_type": "code",
   "execution_count": 170,
   "metadata": {},
   "outputs": [
    {
     "name": "stdout",
     "output_type": "stream",
     "text": [
      "Mean squared error: 0.6177518759003805\n"
     ]
    }
   ],
   "source": [
    "\n",
    "\n",
    "# Select the \"alcohol\" feature as the input variable (X) and the \"quality\" feature as the output variable (y)\n",
    "X = df[['alcohol']]\n",
    "y = df['quality']\n",
    "\n",
    "# Split the dataset into training and testing sets\n",
    "X_train, X_test, y_train, y_test = train_test_split(X, y, test_size=0.2, random_state=42)\n",
    "\n",
    "# Create a linear regression model and fit it to the training data\n",
    "model = LinearRegression()\n",
    "model.fit(X_train, y_train)\n",
    "\n",
    "# Use the model to make predictions on the testing data\n",
    "y_pred = model.predict(X_test)\n",
    "\n",
    "# Calculate the mean squared error of the model\n",
    "mse = mean_squared_error(y_test, y_pred)\n",
    "print('Mean squared error:', mse)"
   ]
  },
  {
   "cell_type": "code",
   "execution_count": 174,
   "metadata": {},
   "outputs": [
    {
     "name": "stdout",
     "output_type": "stream",
     "text": [
      "Accuracy: 0.475\n"
     ]
    }
   ],
   "source": [
    "\n",
    "\n",
    "# Select the \"sulphates\" feature as input variable X and \"quality\" feature as output variable y\n",
    "X = df[['sulphates']]\n",
    "y = df['quality']\n",
    "\n",
    "# Split the dataset into training and testing sets\n",
    "X_train, X_test, y_train, y_test = train_test_split(X, y, test_size=0.2, random_state=42)\n",
    "\n",
    "# Create a decision tree classifier and fit it to the training data\n",
    "model = DecisionTreeClassifier(random_state=42)\n",
    "model.fit(X_train, y_train)\n",
    "\n",
    "# Use the model to make predictions on the testing data\n",
    "y_pred = model.predict(X_test)\n",
    "\n",
    "# Calculate the accuracy of the model^\n",
    "accuracy = accuracy_score(y_test, y_pred)\n",
    "print('Accuracy:', accuracy)"
   ]
  },
  {
   "attachments": {},
   "cell_type": "markdown",
   "metadata": {},
   "source": [
    "Box Cox Function to identify the most skewed variables "
   ]
  },
  {
   "cell_type": "code",
   "execution_count": 497,
   "metadata": {},
   "outputs": [
    {
     "name": "stderr",
     "output_type": "stream",
     "text": [
      "/var/folders/28/lqytsck570bbnwy7thfhf1m40000gn/T/ipykernel_20725/834753332.py:4: FutureWarning: The default value of numeric_only in DataFrame.skew is deprecated. In a future version, it will default to False. In addition, specifying 'numeric_only=None' is deprecated. Select only valid columns or specify the value of numeric_only to silence this warning.\n",
      "  skewness = df.skew()\n"
     ]
    },
    {
     "data": {
      "text/html": [
       "<div>\n",
       "<style scoped>\n",
       "    .dataframe tbody tr th:only-of-type {\n",
       "        vertical-align: middle;\n",
       "    }\n",
       "\n",
       "    .dataframe tbody tr th {\n",
       "        vertical-align: top;\n",
       "    }\n",
       "\n",
       "    .dataframe thead th {\n",
       "        text-align: right;\n",
       "    }\n",
       "</style>\n",
       "<table border=\"1\" class=\"dataframe\">\n",
       "  <thead>\n",
       "    <tr style=\"text-align: right;\">\n",
       "      <th></th>\n",
       "      <th>fixed acidity</th>\n",
       "      <th>volatile acidity</th>\n",
       "      <th>citric acid</th>\n",
       "      <th>residual sugar</th>\n",
       "      <th>chlorides</th>\n",
       "      <th>free sulfur dioxide</th>\n",
       "      <th>total sulfur dioxide</th>\n",
       "      <th>density</th>\n",
       "      <th>pH</th>\n",
       "      <th>sulphates</th>\n",
       "      <th>alcohol</th>\n",
       "      <th>quality</th>\n",
       "      <th>wine_type</th>\n",
       "      <th>type</th>\n",
       "      <th>quality_cat</th>\n",
       "    </tr>\n",
       "  </thead>\n",
       "  <tbody>\n",
       "    <tr>\n",
       "      <th>0</th>\n",
       "      <td>1.103306</td>\n",
       "      <td>0.70</td>\n",
       "      <td>0.00</td>\n",
       "      <td>0.450049</td>\n",
       "      <td>-4.920401</td>\n",
       "      <td>2.867882</td>\n",
       "      <td>3.861490</td>\n",
       "      <td>0.9978</td>\n",
       "      <td>3.51</td>\n",
       "      <td>-0.801405</td>\n",
       "      <td>9.4</td>\n",
       "      <td>5</td>\n",
       "      <td>red</td>\n",
       "      <td>red</td>\n",
       "      <td>medium</td>\n",
       "    </tr>\n",
       "    <tr>\n",
       "      <th>1</th>\n",
       "      <td>1.116875</td>\n",
       "      <td>0.88</td>\n",
       "      <td>0.00</td>\n",
       "      <td>0.572939</td>\n",
       "      <td>-4.140122</td>\n",
       "      <td>4.102521</td>\n",
       "      <td>4.686835</td>\n",
       "      <td>0.9968</td>\n",
       "      <td>3.20</td>\n",
       "      <td>-0.476630</td>\n",
       "      <td>9.8</td>\n",
       "      <td>5</td>\n",
       "      <td>red</td>\n",
       "      <td>red</td>\n",
       "      <td>medium</td>\n",
       "    </tr>\n",
       "    <tr>\n",
       "      <th>2</th>\n",
       "      <td>1.116875</td>\n",
       "      <td>0.76</td>\n",
       "      <td>0.04</td>\n",
       "      <td>0.530233</td>\n",
       "      <td>-4.325636</td>\n",
       "      <td>3.317116</td>\n",
       "      <td>4.421290</td>\n",
       "      <td>0.9970</td>\n",
       "      <td>3.26</td>\n",
       "      <td>-0.546246</td>\n",
       "      <td>9.8</td>\n",
       "      <td>5</td>\n",
       "      <td>red</td>\n",
       "      <td>red</td>\n",
       "      <td>medium</td>\n",
       "    </tr>\n",
       "    <tr>\n",
       "      <th>3</th>\n",
       "      <td>1.198255</td>\n",
       "      <td>0.28</td>\n",
       "      <td>0.56</td>\n",
       "      <td>0.450049</td>\n",
       "      <td>-4.963593</td>\n",
       "      <td>3.504207</td>\n",
       "      <td>4.550629</td>\n",
       "      <td>0.9980</td>\n",
       "      <td>3.16</td>\n",
       "      <td>-0.737642</td>\n",
       "      <td>9.8</td>\n",
       "      <td>6</td>\n",
       "      <td>red</td>\n",
       "      <td>red</td>\n",
       "      <td>medium</td>\n",
       "    </tr>\n",
       "    <tr>\n",
       "      <th>4</th>\n",
       "      <td>1.103306</td>\n",
       "      <td>0.70</td>\n",
       "      <td>0.00</td>\n",
       "      <td>0.450049</td>\n",
       "      <td>-4.920401</td>\n",
       "      <td>2.867882</td>\n",
       "      <td>3.861490</td>\n",
       "      <td>0.9978</td>\n",
       "      <td>3.51</td>\n",
       "      <td>-0.801405</td>\n",
       "      <td>9.4</td>\n",
       "      <td>5</td>\n",
       "      <td>red</td>\n",
       "      <td>red</td>\n",
       "      <td>medium</td>\n",
       "    </tr>\n",
       "  </tbody>\n",
       "</table>\n",
       "</div>"
      ],
      "text/plain": [
       "   fixed acidity  volatile acidity  citric acid  residual sugar  chlorides  \\\n",
       "0       1.103306              0.70         0.00        0.450049  -4.920401   \n",
       "1       1.116875              0.88         0.00        0.572939  -4.140122   \n",
       "2       1.116875              0.76         0.04        0.530233  -4.325636   \n",
       "3       1.198255              0.28         0.56        0.450049  -4.963593   \n",
       "4       1.103306              0.70         0.00        0.450049  -4.920401   \n",
       "\n",
       "   free sulfur dioxide  total sulfur dioxide  density    pH  sulphates  \\\n",
       "0             2.867882              3.861490   0.9978  3.51  -0.801405   \n",
       "1             4.102521              4.686835   0.9968  3.20  -0.476630   \n",
       "2             3.317116              4.421290   0.9970  3.26  -0.546246   \n",
       "3             3.504207              4.550629   0.9980  3.16  -0.737642   \n",
       "4             2.867882              3.861490   0.9978  3.51  -0.801405   \n",
       "\n",
       "   alcohol  quality wine_type type quality_cat  \n",
       "0      9.4        5       red  red      medium  \n",
       "1      9.8        5       red  red      medium  \n",
       "2      9.8        5       red  red      medium  \n",
       "3      9.8        6       red  red      medium  \n",
       "4      9.4        5       red  red      medium  "
      ]
     },
     "metadata": {},
     "output_type": "display_data"
    }
   ],
   "source": [
    "\n",
    "\n",
    "# Identify the most skewed variables using skewness\n",
    "skewness = df.skew()\n",
    "most_skewed = skewness.abs().sort_values(ascending=False).index[:2]\n",
    "\n",
    "# Apply Box-Cox transformation to the most skewed variables\n",
    "for feature in most_skewed:\n",
    "    df[feature], _ = stats.boxcox(df[feature])\n",
    "\n",
    "# View the transformed dataset\n",
    "display(df.head())"
   ]
  },
  {
   "cell_type": "code",
   "execution_count": 179,
   "metadata": {},
   "outputs": [
    {
     "name": "stdout",
     "output_type": "stream",
     "text": [
      "   fixed acidity  volatile acidity  citric acid  residual sugar  chlorides  \\\n",
      "0            7.0         -1.417058         0.36            20.7  -7.190792   \n",
      "1            6.3         -1.294668         0.34             1.6  -6.817492   \n",
      "2            8.1         -1.374638         0.40             6.9  -6.731162   \n",
      "3            7.2         -1.606292         0.32             8.5  -6.122128   \n",
      "4            7.2         -1.606292         0.32             8.5  -6.122128   \n",
      "\n",
      "   free sulfur dioxide  total sulfur dioxide  density    pH  sulphates  \\\n",
      "0                 45.0                 170.0   1.0010  3.00       0.45   \n",
      "1                 14.0                 132.0   0.9940  3.30       0.49   \n",
      "2                 30.0                  97.0   0.9951  3.26       0.44   \n",
      "3                 47.0                 186.0   0.9956  3.19       0.40   \n",
      "4                 47.0                 186.0   0.9956  3.19       0.40   \n",
      "\n",
      "   alcohol  quality quality_label   type wine_type  \n",
      "0      8.8        6        medium  white     white  \n",
      "1      9.5        6        medium  white     white  \n",
      "2     10.1        6        medium  white     white  \n",
      "3      9.9        6        medium  white     white  \n",
      "4      9.9        6        medium  white     white  \n"
     ]
    },
    {
     "name": "stderr",
     "output_type": "stream",
     "text": [
      "/var/folders/28/lqytsck570bbnwy7thfhf1m40000gn/T/ipykernel_20725/3226108409.py:5: FutureWarning: The default value of numeric_only in DataFrame.skew is deprecated. In a future version, it will default to False. In addition, specifying 'numeric_only=None' is deprecated. Select only valid columns or specify the value of numeric_only to silence this warning.\n",
      "  skewness = df.skew()\n"
     ]
    }
   ],
   "source": [
    "\n",
    "\n",
    "# Identify the most skewed variables using skewness\n",
    "skewness = df.skew()\n",
    "most_skewed = skewness.abs().sort_values(ascending=False).index[:2]\n",
    "\n",
    "# Apply Box-Cox transformation to the most skewed variables\n",
    "for feature in most_skewed:\n",
    "    df[feature], _ = stats.boxcox(df[feature])\n",
    "\n",
    "# View the transformed dataset\n",
    "print(df.head())"
   ]
  },
  {
   "attachments": {},
   "cell_type": "markdown",
   "metadata": {},
   "source": [
    "Decision Tree Model, Alcohol Quality in Red Wine"
   ]
  },
  {
   "cell_type": "code",
   "execution_count": 424,
   "metadata": {},
   "outputs": [
    {
     "name": "stdout",
     "output_type": "stream",
     "text": [
      "Accuracy: 0.475\n"
     ]
    }
   ],
   "source": [
    "\n",
    "\n",
    "\n",
    "# select the variables for the decision tree\n",
    "X = red_wine[['sulphates']]\n",
    "y = red_wine['quality']\n",
    "\n",
    "# split the data into training and testing sets\n",
    "X_train, X_test, y_train, y_test = train_test_split(X, y, test_size=0.2, random_state=42)\n",
    "\n",
    "# create the decision tree model\n",
    "model = DecisionTreeClassifier(random_state=42)\n",
    "model.fit(X_train, y_train)\n",
    "\n",
    "# make predictions on the test set\n",
    "y_pred = model.predict(X_test)\n",
    "\n",
    "# evaluate the model's accuracy\n",
    "accuracy = accuracy_score(y_test, y_pred)\n",
    "print('Accuracy:', accuracy)\n"
   ]
  },
  {
   "attachments": {},
   "cell_type": "markdown",
   "metadata": {},
   "source": [
    "same for combined data set Train Test Split Method"
   ]
  },
  {
   "cell_type": "code",
   "execution_count": 423,
   "metadata": {},
   "outputs": [
    {
     "name": "stdout",
     "output_type": "stream",
     "text": [
      "Accuracy: 0.4897959183673469\n"
     ]
    }
   ],
   "source": [
    "combined_wine = pd.concat([red_wine, white_wine])\n",
    "# split the data into training and testing sets\n",
    "X_train, X_test, y_train, y_test = train_test_split(X, y, test_size=0.2, random_state=42)\n",
    "\n",
    "# create the decision tree model\n",
    "model = DecisionTreeClassifier(random_state=42)\n",
    "model.fit(X_train, y_train)\n",
    "\n",
    "# make predictions on the test set\n",
    "y_pred = model.predict(X_test)\n",
    "\n",
    "# evaluate the model's accuracy\n",
    "accuracy = accuracy_score(y_test, y_pred)\n",
    "print('Accuracy:', accuracy)\n"
   ]
  },
  {
   "attachments": {},
   "cell_type": "markdown",
   "metadata": {},
   "source": [
    "Decision Tree Model, Alcohol Quality in White Wine"
   ]
  },
  {
   "cell_type": "code",
   "execution_count": 434,
   "metadata": {},
   "outputs": [
    {
     "name": "stdout",
     "output_type": "stream",
     "text": [
      "Accuracy: 1.0\n"
     ]
    }
   ],
   "source": [
    "\n",
    "\n",
    "# select the variables for the decision tree\n",
    "X = white_wine[['alcohol']]\n",
    "y = white_wine['type']\n",
    "\n",
    "# split the data into training and testing sets\n",
    "X_train, X_test, y_train, y_test = train_test_split(X, y, test_size=0.2, random_state=42)\n",
    "\n",
    "# create the decision tree model\n",
    "model = DecisionTreeClassifier(random_state=42)\n",
    "model.fit(X_train, y_train)\n",
    "\n",
    "# make predictions on the test set\n",
    "y_pred = model.predict(X_test)\n",
    "\n",
    "# evaluate the model's accuracy\n",
    "accuracy = accuracy_score(y_test, y_pred)\n",
    "print('Accuracy:', accuracy)"
   ]
  },
  {
   "attachments": {},
   "cell_type": "markdown",
   "metadata": {},
   "source": [
    "Visualizing the Decivion Tree with Graphviz, it opens up in a pdf # it looks nice but complicated # "
   ]
  },
  {
   "cell_type": "code",
   "execution_count": 421,
   "metadata": {},
   "outputs": [
    {
     "name": "stdout",
     "output_type": "stream",
     "text": [
      "Accuracy: 0.4897959183673469\n"
     ]
    },
    {
     "data": {
      "text/plain": [
       "'Source.gv.pdf'"
      ]
     },
     "execution_count": 421,
     "metadata": {},
     "output_type": "execute_result"
    }
   ],
   "source": [
    "\n",
    "\n",
    "# select the variables for the decision tree\n",
    "X = white_wine[['alcohol']]\n",
    "y = white_wine['quality']\n",
    "\n",
    "# split the data into training and testing sets\n",
    "X_train, X_test, y_train, y_test = train_test_split(X, y, test_size=0.2, random_state=42)\n",
    "\n",
    "# create the decision tree model\n",
    "model = DecisionTreeClassifier(random_state=42)\n",
    "model.fit(X_train, y_train)\n",
    "\n",
    "# make predictions on the test set\n",
    "y_pred = model.predict(X_test)\n",
    "\n",
    "# evaluate the model's accuracy\n",
    "accuracy = accuracy_score(y_test, y_pred)\n",
    "print('Accuracy:', accuracy)\n",
    "dot_data = export_graphviz(model, out_file=None, feature_names=['alcohol'], class_names=y.unique().astype(str), filled=True, rounded=True, special_characters=True)\n",
    "\n",
    "# visualize the dot file using Graphviz\n",
    "graph = graphviz.Source(dot_data)\n",
    "graph.view()"
   ]
  },
  {
   "attachments": {},
   "cell_type": "markdown",
   "metadata": {},
   "source": [
    "Linear Regression Model for Red Wine Quality and Alcohol"
   ]
  },
  {
   "cell_type": "code",
   "execution_count": 420,
   "metadata": {},
   "outputs": [
    {
     "name": "stdout",
     "output_type": "stream",
     "text": [
      "Mean squared error: 0.4995281340730443\n",
      "R-squared: 0.23561797203963397\n"
     ]
    }
   ],
   "source": [
    "\n",
    "\n",
    "# select the variables for the linear regression model\n",
    "X = red_wine[['alcohol']]\n",
    "y = red_wine['quality']\n",
    "\n",
    "# split the data into training and testing sets\n",
    "X_train, X_test, y_train, y_test = train_test_split(X, y, test_size=0.2, random_state=42)\n",
    "\n",
    "# create the linear regression model\n",
    "model = LinearRegression()\n",
    "model.fit(X_train, y_train)\n",
    "\n",
    "# make predictions on the test set\n",
    "y_pred = model.predict(X_test)\n",
    "\n",
    "# evaluate the model's performance\n",
    "mse = mean_squared_error(y_test, y_pred)\n",
    "r2 = r2_score(y_test, y_pred)\n",
    "print('Mean squared error:', mse)\n",
    "print('R-squared:', r2)\n"
   ]
  },
  {
   "attachments": {},
   "cell_type": "markdown",
   "metadata": {},
   "source": [
    "Linear Regression Model for Combined Wine Quality and Alcohol"
   ]
  },
  {
   "cell_type": "code",
   "execution_count": 449,
   "metadata": {},
   "outputs": [
    {
     "data": {
      "text/html": [
       "<div>\n",
       "<style scoped>\n",
       "    .dataframe tbody tr th:only-of-type {\n",
       "        vertical-align: middle;\n",
       "    }\n",
       "\n",
       "    .dataframe tbody tr th {\n",
       "        vertical-align: top;\n",
       "    }\n",
       "\n",
       "    .dataframe thead th {\n",
       "        text-align: right;\n",
       "    }\n",
       "</style>\n",
       "<table border=\"1\" class=\"dataframe\">\n",
       "  <thead>\n",
       "    <tr style=\"text-align: right;\">\n",
       "      <th></th>\n",
       "      <th>fixed acidity</th>\n",
       "      <th>volatile acidity</th>\n",
       "      <th>citric acid</th>\n",
       "      <th>residual sugar</th>\n",
       "      <th>chlorides</th>\n",
       "      <th>free sulfur dioxide</th>\n",
       "      <th>total sulfur dioxide</th>\n",
       "      <th>density</th>\n",
       "      <th>pH</th>\n",
       "      <th>sulphates</th>\n",
       "      <th>alcohol</th>\n",
       "      <th>quality</th>\n",
       "      <th>wine_type</th>\n",
       "      <th>type</th>\n",
       "      <th>quality_cat</th>\n",
       "    </tr>\n",
       "  </thead>\n",
       "  <tbody>\n",
       "    <tr>\n",
       "      <th>0</th>\n",
       "      <td>7.4</td>\n",
       "      <td>0.70</td>\n",
       "      <td>0.00</td>\n",
       "      <td>0.450049</td>\n",
       "      <td>-4.920401</td>\n",
       "      <td>11.0</td>\n",
       "      <td>3.861490</td>\n",
       "      <td>0.9978</td>\n",
       "      <td>3.51</td>\n",
       "      <td>-0.801405</td>\n",
       "      <td>9.4</td>\n",
       "      <td>5</td>\n",
       "      <td>red</td>\n",
       "      <td>red</td>\n",
       "      <td>medium</td>\n",
       "    </tr>\n",
       "    <tr>\n",
       "      <th>1</th>\n",
       "      <td>7.8</td>\n",
       "      <td>0.88</td>\n",
       "      <td>0.00</td>\n",
       "      <td>0.572939</td>\n",
       "      <td>-4.140122</td>\n",
       "      <td>25.0</td>\n",
       "      <td>4.686835</td>\n",
       "      <td>0.9968</td>\n",
       "      <td>3.20</td>\n",
       "      <td>-0.476630</td>\n",
       "      <td>9.8</td>\n",
       "      <td>5</td>\n",
       "      <td>red</td>\n",
       "      <td>red</td>\n",
       "      <td>medium</td>\n",
       "    </tr>\n",
       "    <tr>\n",
       "      <th>2</th>\n",
       "      <td>7.8</td>\n",
       "      <td>0.76</td>\n",
       "      <td>0.04</td>\n",
       "      <td>0.530233</td>\n",
       "      <td>-4.325636</td>\n",
       "      <td>15.0</td>\n",
       "      <td>4.421290</td>\n",
       "      <td>0.9970</td>\n",
       "      <td>3.26</td>\n",
       "      <td>-0.546246</td>\n",
       "      <td>9.8</td>\n",
       "      <td>5</td>\n",
       "      <td>red</td>\n",
       "      <td>red</td>\n",
       "      <td>medium</td>\n",
       "    </tr>\n",
       "    <tr>\n",
       "      <th>3</th>\n",
       "      <td>11.2</td>\n",
       "      <td>0.28</td>\n",
       "      <td>0.56</td>\n",
       "      <td>0.450049</td>\n",
       "      <td>-4.963593</td>\n",
       "      <td>17.0</td>\n",
       "      <td>4.550629</td>\n",
       "      <td>0.9980</td>\n",
       "      <td>3.16</td>\n",
       "      <td>-0.737642</td>\n",
       "      <td>9.8</td>\n",
       "      <td>6</td>\n",
       "      <td>red</td>\n",
       "      <td>red</td>\n",
       "      <td>medium</td>\n",
       "    </tr>\n",
       "    <tr>\n",
       "      <th>4</th>\n",
       "      <td>7.4</td>\n",
       "      <td>0.70</td>\n",
       "      <td>0.00</td>\n",
       "      <td>0.450049</td>\n",
       "      <td>-4.920401</td>\n",
       "      <td>11.0</td>\n",
       "      <td>3.861490</td>\n",
       "      <td>0.9978</td>\n",
       "      <td>3.51</td>\n",
       "      <td>-0.801405</td>\n",
       "      <td>9.4</td>\n",
       "      <td>5</td>\n",
       "      <td>red</td>\n",
       "      <td>red</td>\n",
       "      <td>medium</td>\n",
       "    </tr>\n",
       "  </tbody>\n",
       "</table>\n",
       "</div>"
      ],
      "text/plain": [
       "   fixed acidity  volatile acidity  citric acid  residual sugar  chlorides  \\\n",
       "0            7.4              0.70         0.00        0.450049  -4.920401   \n",
       "1            7.8              0.88         0.00        0.572939  -4.140122   \n",
       "2            7.8              0.76         0.04        0.530233  -4.325636   \n",
       "3           11.2              0.28         0.56        0.450049  -4.963593   \n",
       "4            7.4              0.70         0.00        0.450049  -4.920401   \n",
       "\n",
       "   free sulfur dioxide  total sulfur dioxide  density    pH  sulphates  \\\n",
       "0                 11.0              3.861490   0.9978  3.51  -0.801405   \n",
       "1                 25.0              4.686835   0.9968  3.20  -0.476630   \n",
       "2                 15.0              4.421290   0.9970  3.26  -0.546246   \n",
       "3                 17.0              4.550629   0.9980  3.16  -0.737642   \n",
       "4                 11.0              3.861490   0.9978  3.51  -0.801405   \n",
       "\n",
       "   alcohol  quality wine_type type quality_cat  \n",
       "0      9.4        5       red  red      medium  \n",
       "1      9.8        5       red  red      medium  \n",
       "2      9.8        5       red  red      medium  \n",
       "3      9.8        6       red  red      medium  \n",
       "4      9.4        5       red  red      medium  "
      ]
     },
     "execution_count": 449,
     "metadata": {},
     "output_type": "execute_result"
    }
   ],
   "source": [
    "red_wine.head()"
   ]
  },
  {
   "attachments": {},
   "cell_type": "markdown",
   "metadata": {},
   "source": [
    "Logistic Regression with all Variables "
   ]
  },
  {
   "attachments": {},
   "cell_type": "markdown",
   "metadata": {},
   "source": [
    "running the model again, removing pH, fixed acidity, citric acidity, residual sugar (accuracy decreased again)"
   ]
  },
  {
   "attachments": {},
   "cell_type": "markdown",
   "metadata": {},
   "source": [
    "Running the model again, removed variables density and pH"
   ]
  },
  {
   "attachments": {},
   "cell_type": "markdown",
   "metadata": {},
   "source": [
    "Linear Discrimination Analysis with all 11 Variables!\n",
    "LDA = The goal of LDA is to reduce the dimensionality of the data while preserving the class separability. In other words, it helps to identify the most important features (or variables) that can be used to discriminate between different classes in the data. "
   ]
  },
  {
   "cell_type": "code",
   "execution_count": 241,
   "metadata": {},
   "outputs": [],
   "source": [
    "from sklearn.discriminant_analysis import LinearDiscriminantAnalysis"
   ]
  },
  {
   "cell_type": "code",
   "execution_count": 242,
   "metadata": {},
   "outputs": [
    {
     "name": "stdout",
     "output_type": "stream",
     "text": [
      "Coefficients:\n",
      " [[ 6.18939864e-01  1.58388996e+01  6.62128760e+00 -1.60761538e+00\n",
      "   8.78086343e-01  2.65993218e-02 -2.60901231e-02 -4.48447531e+02\n",
      "   9.13745161e+00 -2.01450870e+00 -9.55856789e-01]\n",
      " [ 2.19223937e-01  6.70785061e+00  2.23422922e+00  2.35497143e+00\n",
      "  -4.78009806e-02 -1.73158093e-02 -8.36251575e-03 -3.63891750e+02\n",
      "   3.95906642e+00 -3.89544775e-01 -6.77919816e-01]\n",
      " [-1.29127614e-01  1.35060725e+00  4.13535769e-01 -6.21445233e-01\n",
      "   1.13225360e-01 -1.29388413e-02  1.14912849e-02  6.93026592e+01\n",
      "  -1.96368197e-01 -1.72101057e+00 -5.19221652e-01]\n",
      " [-6.40245538e-03 -1.29825726e+00 -8.14301203e-01 -6.67015750e-01\n",
      "  -6.24253643e-03  1.34323802e-02 -7.26011155e-03  7.53886780e+01\n",
      "  -2.10322267e-01  6.18196119e-01  3.06663338e-01]\n",
      " [ 3.97134468e-01 -2.99089813e+00  7.69730508e-02  3.68578958e+00\n",
      "  -3.44565130e-01  3.98900319e-03 -1.11473031e-02 -3.54251536e+02\n",
      "   3.66573150e-01  3.70111781e+00  8.46693019e-01]\n",
      " [-2.67630802e-01 -5.66208639e-01  2.10898042e+00  3.63933043e-01\n",
      "  -6.00149032e-01  5.52363516e-03 -1.50658890e-02 -5.70163223e+01\n",
      "  -5.90226358e+00  4.54819939e+00  1.94084126e+00]]\n",
      "Variable importance scores:\n",
      " [0.85371688 0.09274083 0.03739024 0.00887122 0.00728083]\n"
     ]
    }
   ],
   "source": [
    "data = red_wine\n",
    "\n",
    "# select the predictor variables and the target variable\n",
    "X = data[['fixed acidity', 'volatile acidity', 'citric acid', 'residual sugar', 'chlorides', 'free sulfur dioxide', 'total sulfur dioxide', 'density', 'pH', 'sulphates', 'alcohol']]\n",
    "y = data['quality']\n",
    "\n",
    "# create the LDA model\n",
    "lda = LinearDiscriminantAnalysis()\n",
    "lda.fit(X, y)\n",
    "\n",
    "# print the coefficients for each predictor variable\n",
    "print('Coefficients:\\n', lda.coef_)\n",
    "\n",
    "# print the variable importance scores\n",
    "print('Variable importance scores:\\n', lda.explained_variance_ratio_)\n"
   ]
  },
  {
   "attachments": {},
   "cell_type": "markdown",
   "metadata": {},
   "source": [
    "created a better version of the LDA to see the scores in a better way ################## IS THAT CORRECT?????"
   ]
  },
  {
   "cell_type": "code",
   "execution_count": 332,
   "metadata": {},
   "outputs": [
    {
     "name": "stdout",
     "output_type": "stream",
     "text": [
      "Variable importance scores:\n",
      "                 Variable  Importance Score\n",
      "8                     pH          4.674239\n",
      "0          fixed acidity          1.166883\n",
      "1       volatile acidity          1.004827\n",
      "4              chlorides          0.138268\n",
      "3         residual sugar          0.127825\n",
      "5    free sulfur dioxide          0.052351\n",
      "6   total sulfur dioxide          0.003745\n",
      "10               alcohol         -0.593247\n",
      "2            citric acid         -2.726360\n",
      "9              sulphates         -3.276865\n",
      "7                density       -460.845551\n"
     ]
    }
   ],
   "source": [
    "data =combined_wine\n",
    "# select the predictor variables and the target variable\n",
    "X = data[['fixed acidity', 'volatile acidity', 'citric acid', 'residual sugar', 'chlorides', 'free sulfur dioxide', 'total sulfur dioxide', 'density', 'pH', 'sulphates', 'alcohol']]\n",
    "y = data['quality']\n",
    "\n",
    "# create the LDA model\n",
    "lda = LinearDiscriminantAnalysis()\n",
    "lda.fit(X, y)\n",
    "\n",
    "# create a DataFrame with the variable names and their scores\n",
    "var_scores = pd.DataFrame({'Variable': X.columns, 'Importance Score': lda.coef_[0]})\n",
    "var_scores = var_scores.sort_values('Importance Score', ascending=False)\n",
    "\n",
    "# print the variable importance scores\n",
    "print('Variable importance scores:\\n', var_scores)\n"
   ]
  },
  {
   "attachments": {},
   "cell_type": "markdown",
   "metadata": {},
   "source": [
    "same for white wine now LDA "
   ]
  },
  {
   "cell_type": "code",
   "execution_count": 244,
   "metadata": {},
   "outputs": [
    {
     "name": "stdout",
     "output_type": "stream",
     "text": [
      "Variable importance scores:\n",
      "                 Variable  Importance Score\n",
      "7                density        296.761304\n",
      "8                     pH          2.212429\n",
      "1       volatile acidity          1.726042\n",
      "0          fixed acidity          1.331553\n",
      "10               alcohol          0.275888\n",
      "5    free sulfur dioxide          0.081846\n",
      "4              chlorides          0.021889\n",
      "6   total sulfur dioxide         -0.001692\n",
      "3         residual sugar         -0.203747\n",
      "2            citric acid         -2.314145\n",
      "9              sulphates         -2.622862\n"
     ]
    }
   ],
   "source": [
    "data = white_wine\n",
    "\n",
    "\n",
    "X = data[['fixed acidity', 'volatile acidity', 'citric acid', 'residual sugar', 'chlorides', 'free sulfur dioxide', 'total sulfur dioxide', 'density', 'pH', 'sulphates', 'alcohol']]\n",
    "y = data['quality']\n",
    "lda = LinearDiscriminantAnalysis()\n",
    "lda.fit(X, y)\n",
    "var_scores = pd.DataFrame({'Variable': X.columns, 'Importance Score': lda.coef_[0]})\n",
    "var_scores = var_scores.sort_values('Importance Score', ascending=False)\n",
    "print('Variable importance scores:\\n', var_scores)\n"
   ]
  },
  {
   "attachments": {},
   "cell_type": "markdown",
   "metadata": {},
   "source": [
    "doing the same with the combined dataset to maybe use the result to help narroving down the variables that I can use for my model ##################"
   ]
  },
  {
   "cell_type": "code",
   "execution_count": 330,
   "metadata": {},
   "outputs": [
    {
     "name": "stdout",
     "output_type": "stream",
     "text": [
      "Variable importance scores:\n",
      "                 Variable  Importance Score\n",
      "1       volatile acidity         15.838900\n",
      "8                     pH          9.137452\n",
      "2            citric acid          6.621288\n",
      "4              chlorides          0.878086\n",
      "0          fixed acidity          0.618940\n",
      "5    free sulfur dioxide          0.026599\n",
      "6   total sulfur dioxide         -0.026090\n",
      "10               alcohol         -0.955857\n",
      "3         residual sugar         -1.607615\n",
      "9              sulphates         -2.014509\n",
      "7                density       -448.447531\n"
     ]
    }
   ],
   "source": [
    "combined_wine = pd.concat([red_wine, white_wine])\n",
    "X = data[['fixed acidity', 'volatile acidity', 'citric acid', 'residual sugar', 'chlorides', 'free sulfur dioxide', 'total sulfur dioxide', 'density', 'pH', 'sulphates', 'alcohol']]\n",
    "y = data['quality']\n",
    "lda = LinearDiscriminantAnalysis()\n",
    "lda.fit(X, y)\n",
    "var_scores = pd.DataFrame({'Variable': X.columns, 'Importance Score': lda.coef_[0]})\n",
    "var_scores = var_scores.sort_values('Importance Score', ascending=False)\n",
    "print('Variable importance scores:\\n', var_scores)"
   ]
  },
  {
   "cell_type": "code",
   "execution_count": null,
   "metadata": {},
   "outputs": [],
   "source": [
    "data = white_wine\n",
    "\n",
    "\n",
    "X = data[['fixed acidity', 'volatile acidity', 'citric acid', 'residual sugar', 'chlorides', 'free sulfur dioxide', 'total sulfur dioxide', 'density', 'pH', 'sulphates', 'alcohol']]\n",
    "y = data['quality']\n",
    "lda = LinearDiscriminantAnalysis()\n",
    "lda.fit(X, y)\n",
    "var_scores = pd.DataFrame({'Variable': X.columns, 'Importance Score': lda.coef_[0]})\n",
    "var_scores = var_scores.sort_values('Importance Score', ascending=False)\n",
    "print('Variable importance scores:\\n', var_scores)"
   ]
  },
  {
   "attachments": {},
   "cell_type": "markdown",
   "metadata": {},
   "source": [
    "Classification and Regression Tree"
   ]
  },
  {
   "cell_type": "code",
   "execution_count": 484,
   "metadata": {},
   "outputs": [
    {
     "name": "stdout",
     "output_type": "stream",
     "text": [
      "Coefficients of the LDA model:\n",
      "    fixed acidity  volatile acidity  citric acid  residual sugar  chlorides  \\\n",
      "0       0.429864         16.083071     7.432626       -2.780695   0.821674   \n",
      "1       0.094584          4.269985     2.086201        2.735571   0.123638   \n",
      "2      -0.151941          1.232585     0.571817       -0.532021   0.079923   \n",
      "3       0.033523         -1.210786    -0.986495       -0.866059   0.004296   \n",
      "4       0.394250         -2.535750    -0.006514        4.177576  -0.321605   \n",
      "5      -0.236616          0.250722     2.193675       -1.316413  -0.648522   \n",
      "\n",
      "   free sulfur dioxide  total sulfur dioxide     density        pH  sulphates  \\\n",
      "0             0.070112             -1.573876 -181.697888  8.325995  -1.857543   \n",
      "1            -0.000821             -0.470094 -303.849601  3.355307  -1.356467   \n",
      "2            -0.014304              0.404676   99.786466 -0.263497  -1.068278   \n",
      "3             0.010321             -0.176668   52.725436  0.029886   0.541837   \n",
      "4             0.011840             -0.570328 -435.516894 -0.001185   2.271470   \n",
      "5             0.015728             -0.743232  108.888672 -6.843203   2.528982   \n",
      "\n",
      "    alcohol  \n",
      "0 -0.768900  \n",
      "1 -0.568635  \n",
      "2 -0.489251  \n",
      "3  0.303679  \n",
      "4  0.788841  \n",
      "5  1.802985  \n",
      "Accuracy of the LDA model: 0.565625\n",
      "Accuracy of the Naive Bayes model: 0.546875\n"
     ]
    }
   ],
   "source": [
    "data =red_wine\n",
    "\n",
    "# Split the data into features (X) and target variable (y)\n",
    "X = data[['fixed acidity', 'volatile acidity', 'citric acid', 'residual sugar', \n",
    "          'chlorides', 'free sulfur dioxide', 'total sulfur dioxide', \n",
    "          'density', 'pH', 'sulphates', 'alcohol']]\n",
    "y = data['quality']\n",
    "\n",
    "# Split the data into training and testing sets\n",
    "X_train, X_test, y_train, y_test = train_test_split(X, y, test_size=0.2, random_state=42)\n",
    "\n",
    "# Perform Linear Discriminant Analysis (LDA)\n",
    "lda = LinearDiscriminantAnalysis()\n",
    "lda.fit(X_train, y_train)\n",
    "\n",
    "# Print the coefficients of the LDA model\n",
    "coefficients = pd.DataFrame(lda.coef_, columns=X_train.columns)\n",
    "print(\"Coefficients of the LDA model:\\n\", coefficients)\n",
    "\n",
    "# Make predictions using LDA\n",
    "y_pred_lda = lda.predict(X_test)\n",
    "\n",
    "# Calculate the accuracy of the LDA model\n",
    "accuracy_lda = accuracy_score(y_test, y_pred_lda)\n",
    "print(\"Accuracy of the LDA model:\", accuracy_lda)\n",
    "\n",
    "# Perform Naive Bayes classification\n",
    "nb = GaussianNB()\n",
    "nb.fit(X_train, y_train)\n",
    "\n",
    "# Make predictions using Naive Bayes\n",
    "y_pred_nb = nb.predict(X_test)\n",
    "\n",
    "# Calculate the accuracy of the Naive Bayes model\n",
    "accuracy_nb = accuracy_score(y_test, y_pred_nb)\n",
    "print(\"Accuracy of the Naive Bayes model:\", accuracy_nb)"
   ]
  },
  {
   "attachments": {},
   "cell_type": "markdown",
   "metadata": {},
   "source": [
    "Naive Bayes Model for White Wine"
   ]
  },
  {
   "cell_type": "code",
   "execution_count": 285,
   "metadata": {},
   "outputs": [
    {
     "name": "stdout",
     "output_type": "stream",
     "text": [
      "Coefficients of the LDA model:\n",
      "    fixed acidity  volatile acidity  citric acid  residual sugar  chlorides  \\\n",
      "0       1.875353          2.223958    -0.343502       -0.123886  -0.041207   \n",
      "1      -0.075342          2.809887    -0.847047       -0.436857   0.051142   \n",
      "2      -0.057348          1.094390     0.259520       -0.075805   0.007310   \n",
      "3      -0.087799         -0.581113     0.040234       -0.000484   0.024370   \n",
      "4       0.235388         -0.831162    -0.382623        0.169039  -0.079396   \n",
      "5       0.204185         -0.745694    -0.079059        0.228622   0.006278   \n",
      "6       2.731251          1.059912     4.541033        0.616247  -0.850992   \n",
      "\n",
      "   free sulfur dioxide  total sulfur dioxide      density         pH  \\\n",
      "0             0.052125             -0.014464    14.301212   3.837825   \n",
      "1            -0.027539             -0.011582   823.833393  -1.754628   \n",
      "2            -0.008050              0.002359    96.005515  -0.797767   \n",
      "3             0.001741             -0.000032    42.950045  -0.253046   \n",
      "4             0.008904             -0.001368  -345.353194   1.769828   \n",
      "5             0.021877              0.000618  -404.565739   1.926443   \n",
      "6             0.028490             -0.005031 -1490.707321  14.860609   \n",
      "\n",
      "   sulphates   alcohol  \n",
      "0  -3.275409 -0.361593  \n",
      "1  -2.129476 -0.035345  \n",
      "2  -0.975882 -0.626360  \n",
      "3  -0.023383  0.194622  \n",
      "4   1.950306  0.425258  \n",
      "5   1.284727  0.770194  \n",
      "6   0.099790 -0.694055  \n",
      "Accuracy of the LDA model: 0.5163265306122449\n",
      "Accuracy of the Naive Bayes model: 0.4602040816326531\n"
     ]
    }
   ],
   "source": [
    "data =white_wine\n",
    "\n",
    "\n",
    "X = data[['fixed acidity', 'volatile acidity', 'citric acid', 'residual sugar', \n",
    "          'chlorides', 'free sulfur dioxide', 'total sulfur dioxide', \n",
    "          'density', 'pH', 'sulphates', 'alcohol']]\n",
    "y = data['quality']\n",
    "X_train, X_test, y_train, y_test = train_test_split(X, y, test_size=0.2, random_state=42)\n",
    "lda = LinearDiscriminantAnalysis()\n",
    "lda.fit(X_train, y_train)\n",
    "coefficients = pd.DataFrame(lda.coef_, columns=X_train.columns)\n",
    "print(\"Coefficients of the LDA model:\\n\", coefficients)\n",
    "y_pred_lda = lda.predict(X_test)\n",
    "accuracy_lda = accuracy_score(y_test, y_pred_lda)\n",
    "print(\"Accuracy of the LDA model:\", accuracy_lda)\n",
    "nb = GaussianNB()\n",
    "nb.fit(X_train, y_train)\n",
    "y_pred_nb = nb.predict(X_test)\n",
    "accuracy_nb = accuracy_score(y_test, y_pred_nb)\n",
    "print(\"Accuracy of the Naive Bayes model:\", accuracy_nb)"
   ]
  },
  {
   "attachments": {},
   "cell_type": "markdown",
   "metadata": {},
   "source": [
    "LDA and Naive Bayes Model for all wine dataset"
   ]
  },
  {
   "cell_type": "code",
   "execution_count": 327,
   "metadata": {},
   "outputs": [
    {
     "name": "stdout",
     "output_type": "stream",
     "text": [
      "Coefficients of the LDA model:\n",
      "    fixed acidity  volatile acidity  citric acid  residual sugar  chlorides  \\\n",
      "0       0.513612         16.395785     7.186307       -2.034459   0.766538   \n",
      "1       0.205561          4.693209     1.761502        3.717610   0.039292   \n",
      "2      -0.134576          1.289240     0.330895       -0.577202   0.079886   \n",
      "3       0.001728         -1.197015    -0.733484       -0.857543   0.004371   \n",
      "4       0.404140         -2.876281     0.100011        4.034242  -0.299595   \n",
      "5      -0.279607         -0.190448     2.515158       -1.766781  -0.598526   \n",
      "\n",
      "   free sulfur dioxide  total sulfur dioxide     density        pH  sulphates  \\\n",
      "0             0.035234             -0.027781 -340.983391  8.013204  -2.017753   \n",
      "1            -0.014778             -0.008015 -463.409660  3.607026  -0.207620   \n",
      "2            -0.016806              0.012368   78.739013 -0.332572  -1.593212   \n",
      "3             0.016767             -0.007945   75.450218 -0.074340   0.642983   \n",
      "4             0.005975             -0.012542 -389.911447  0.509720   3.444537   \n",
      "5             0.012015             -0.017738  203.735100 -6.644926   2.985027   \n",
      "\n",
      "    alcohol  \n",
      "0 -0.840473  \n",
      "1 -0.709924  \n",
      "2 -0.515828  \n",
      "3  0.319841  \n",
      "4  0.862139  \n",
      "5  1.932069  \n",
      "Accuracy of the LDA model: 0.559375\n",
      "Accuracy of the Naive Bayes model: 0.540625\n"
     ]
    }
   ],
   "source": [
    "wines = pd.concat([white_wine, red_wine], axis=0)\n",
    "X = data[['fixed acidity', 'volatile acidity', 'citric acid', 'residual sugar', \n",
    "          'chlorides', 'free sulfur dioxide', 'total sulfur dioxide', \n",
    "          'density', 'pH', 'sulphates', 'alcohol']]\n",
    "y = data['quality']\n",
    "X_train, X_test, y_train, y_test = train_test_split(X, y, test_size=0.2, random_state=42)\n",
    "lda = LinearDiscriminantAnalysis()\n",
    "lda.fit(X_train, y_train)\n",
    "coefficients = pd.DataFrame(lda.coef_, columns=X_train.columns)\n",
    "print(\"Coefficients of the LDA model:\\n\", coefficients)\n",
    "y_pred_lda = lda.predict(X_test)\n",
    "accuracy_lda = accuracy_score(y_test, y_pred_lda)\n",
    "print(\"Accuracy of the LDA model:\", accuracy_lda)\n",
    "nb = GaussianNB()\n",
    "nb.fit(X_train, y_train)\n",
    "y_pred_nb = nb.predict(X_test)\n",
    "accuracy_nb = accuracy_score(y_test, y_pred_nb)\n",
    "print(\"Accuracy of the Naive Bayes model:\", accuracy_nb)"
   ]
  },
  {
   "attachments": {},
   "cell_type": "markdown",
   "metadata": {},
   "source": [
    "Removing Variables to improve accuracy (first removing density, pH, residual sugar, free sulfur dioxide)"
   ]
  },
  {
   "cell_type": "code",
   "execution_count": 485,
   "metadata": {},
   "outputs": [
    {
     "name": "stdout",
     "output_type": "stream",
     "text": [
      "Coefficients of the LDA model:\n",
      "    fixed acidity  volatile acidity  citric acid  chlorides  \\\n",
      "0      -0.124145         15.541303     5.690185   0.612969   \n",
      "1      -0.244244          4.327359     1.853939   0.054831   \n",
      "2      -0.076956          1.386494     0.677239   0.093339   \n",
      "3       0.058744         -1.295763    -1.125387   0.000809   \n",
      "4       0.142213         -2.751147     0.180455  -0.336041   \n",
      "5       0.151589         -0.178466     2.848066  -0.535006   \n",
      "\n",
      "   total sulfur dioxide  sulphates   alcohol  \n",
      "0             -1.091833  -1.678169 -0.444792  \n",
      "1             -0.478906  -1.509028 -0.217602  \n",
      "2              0.275019  -0.998063 -0.583841  \n",
      "3             -0.096345   0.594552  0.256938  \n",
      "4             -0.414828   1.896610  1.179290  \n",
      "5             -0.556728   2.408700  1.530534  \n",
      "Accuracy of the LDA model: 0.565625\n",
      "Accuracy of the Naive Bayes model: 0.559375\n"
     ]
    }
   ],
   "source": [
    "wines = pd.concat([white_wine, red_wine], axis=0)\n",
    "X = data[['fixed acidity', 'volatile acidity', 'citric acid', \n",
    "          'chlorides', 'total sulfur dioxide', 'sulphates', 'alcohol']]\n",
    "y = data['quality']\n",
    "X_train, X_test, y_train, y_test = train_test_split(X, y, test_size=0.2, random_state=42)\n",
    "lda = LinearDiscriminantAnalysis()\n",
    "lda.fit(X_train, y_train)\n",
    "coefficients = pd.DataFrame(lda.coef_, columns=X_train.columns)\n",
    "print(\"Coefficients of the LDA model:\\n\", coefficients)\n",
    "y_pred_lda = lda.predict(X_test)\n",
    "accuracy_lda = accuracy_score(y_test, y_pred_lda)\n",
    "print(\"Accuracy of the LDA model:\", accuracy_lda)\n",
    "nb = GaussianNB()\n",
    "nb.fit(X_train, y_train)\n",
    "y_pred_nb = nb.predict(X_test)\n",
    "accuracy_nb = accuracy_score(y_test, y_pred_nb)\n",
    "print(\"Accuracy of the Naive Bayes model:\", accuracy_nb)"
   ]
  },
  {
   "attachments": {},
   "cell_type": "markdown",
   "metadata": {},
   "source": [
    "Removing more variables to improve the accuracy (removing sulphates and citric acidity)"
   ]
  },
  {
   "cell_type": "code",
   "execution_count": 333,
   "metadata": {},
   "outputs": [
    {
     "name": "stdout",
     "output_type": "stream",
     "text": [
      "Coefficients of the LDA model:\n",
      "    fixed acidity  volatile acidity  chlorides  total sulfur dioxide   alcohol\n",
      "0       0.176928          0.569926   0.035212              0.002780 -0.248835\n",
      "1      -0.081631          0.434021  -0.157629             -0.004116 -0.471093\n",
      "2      -0.078232          0.591592  -0.034860              0.004045 -0.617467\n",
      "3       0.014212         -0.295982   0.063310             -0.001826  0.132821\n",
      "4       0.125982         -0.477304  -0.035628             -0.002923  0.804034\n",
      "5       0.012577         -0.283790  -0.114088              0.001413  1.048441\n",
      "6       0.760991          0.970799  -1.528483              0.003514  0.679184\n",
      "Accuracy of the LDA model: 0.5161538461538462\n",
      "Accuracy of the Naive Bayes model: 0.4976923076923077\n"
     ]
    }
   ],
   "source": [
    "wines = pd.concat([white_wine, red_wine], axis=0)\n",
    "X = data[['fixed acidity', 'volatile acidity', \n",
    "          'chlorides', 'total sulfur dioxide', 'alcohol']]\n",
    "y = data['quality']\n",
    "X_train, X_test, y_train, y_test = train_test_split(X, y, test_size=0.2, random_state=42)\n",
    "lda = LinearDiscriminantAnalysis()\n",
    "lda.fit(X_train, y_train)\n",
    "coefficients = pd.DataFrame(lda.coef_, columns=X_train.columns)\n",
    "print(\"Coefficients of the LDA model:\\n\", coefficients)\n",
    "y_pred_lda = lda.predict(X_test)\n",
    "accuracy_lda = accuracy_score(y_test, y_pred_lda)\n",
    "print(\"Accuracy of the LDA model:\", accuracy_lda)\n",
    "nb = GaussianNB()\n",
    "nb.fit(X_train, y_train)\n",
    "y_pred_nb = nb.predict(X_test)\n",
    "accuracy_nb = accuracy_score(y_test, y_pred_nb)\n",
    "print(\"Accuracy of the Naive Bayes model:\", accuracy_nb)"
   ]
  },
  {
   "attachments": {},
   "cell_type": "markdown",
   "metadata": {},
   "source": [
    "After removing sulphates and citric acidity the accuracy level went down, puttint the removed variables back in and then removing (fixed acidity, volatile acidity, citric acidity )"
   ]
  },
  {
   "cell_type": "code",
   "execution_count": 334,
   "metadata": {},
   "outputs": [
    {
     "name": "stdout",
     "output_type": "stream",
     "text": [
      "Coefficients of the LDA model:\n",
      "    residual sugar  chlorides  free sulfur dioxide  total sulfur dioxide  \\\n",
      "0       -0.116174   0.157970             0.032174             -0.005702   \n",
      "1       -0.067398  -0.004824            -0.059361              0.008360   \n",
      "2       -0.072116   0.070996            -0.011195              0.005100   \n",
      "3        0.029753   0.007863             0.004942             -0.001931   \n",
      "4        0.064145  -0.135987             0.015871             -0.005568   \n",
      "5        0.114807  -0.130138             0.025682             -0.006335   \n",
      "6       -0.105322  -1.471732             0.030507             -0.008645   \n",
      "\n",
      "      density        pH  sulphates   alcohol  \n",
      "0  223.979678  1.441002  -4.348792 -0.022728  \n",
      "1  -11.474713  0.015473  -2.441139 -0.545420  \n",
      "2   78.920654 -0.175233  -1.457635 -0.534404  \n",
      "3  -27.448412  0.061240   0.369000  0.104503  \n",
      "4  -74.722462  0.064940   2.298409  0.720747  \n",
      "5 -102.002648  0.390161   1.541337  1.028234  \n",
      "6  408.743783  3.116047   0.784160  1.121859  \n",
      "Accuracy of the LDA model: 0.5238461538461539\n",
      "Accuracy of the Naive Bayes model: 0.48307692307692307\n"
     ]
    }
   ],
   "source": [
    "wines = pd.concat([white_wine, red_wine], axis=0)\n",
    "X = data[['residual sugar', \n",
    "          'chlorides', 'free sulfur dioxide', 'total sulfur dioxide', \n",
    "          'density', 'pH', 'sulphates', 'alcohol']]\n",
    "y = data['quality']\n",
    "X_train, X_test, y_train, y_test = train_test_split(X, y, test_size=0.2, random_state=42)\n",
    "lda = LinearDiscriminantAnalysis()\n",
    "lda.fit(X_train, y_train)\n",
    "coefficients = pd.DataFrame(lda.coef_, columns=X_train.columns)\n",
    "print(\"Coefficients of the LDA model:\\n\", coefficients)\n",
    "y_pred_lda = lda.predict(X_test)\n",
    "accuracy_lda = accuracy_score(y_test, y_pred_lda)\n",
    "print(\"Accuracy of the LDA model:\", accuracy_lda)\n",
    "nb = GaussianNB()\n",
    "nb.fit(X_train, y_train)\n",
    "y_pred_nb = nb.predict(X_test)\n",
    "accuracy_nb = accuracy_score(y_test, y_pred_nb)\n",
    "print(\"Accuracy of the Naive Bayes model:\", accuracy_nb)"
   ]
  },
  {
   "attachments": {},
   "cell_type": "markdown",
   "metadata": {},
   "source": [
    "Drop colum type ##############"
   ]
  },
  {
   "attachments": {},
   "cell_type": "markdown",
   "metadata": {},
   "source": [
    "Remove Duplicates"
   ]
  },
  {
   "cell_type": "code",
   "execution_count": 489,
   "metadata": {},
   "outputs": [],
   "source": [
    "# Split the data into train and test sets\n",
    "\n",
    "X = wines.drop('wine_type', axis = 1)\n",
    "y = wines['wine_type']\n",
    "\n",
    "X_train, X_test, y_train, y_test = train_test_split(X, y, test_size = 0.3, random_state=42)"
   ]
  },
  {
   "attachments": {},
   "cell_type": "markdown",
   "metadata": {},
   "source": [
    "After removing fixed acidity, volatile acidity and citric acidity the accuracy went down again, trying now with all variables and then removing different set of variables again (removed density, sulphates) # accuracy score went down again "
   ]
  },
  {
   "cell_type": "code",
   "execution_count": 407,
   "metadata": {},
   "outputs": [
    {
     "name": "stdout",
     "output_type": "stream",
     "text": [
      "Coefficients of the LDA model:\n",
      "    fixed acidity  volatile acidity  citric acid  residual sugar  chlorides  \\\n",
      "0       0.243219         16.580451     6.816382       -3.784049   0.589504   \n",
      "1      -0.178370          4.624771     1.611383        1.064233  -0.075918   \n",
      "2      -0.058769          1.506090     0.129839        0.050725   0.018900   \n",
      "3       0.060283         -1.262640    -0.624291       -0.491776   0.053265   \n",
      "4       0.057605         -3.389957     0.477224        1.408136  -0.217488   \n",
      "5      -0.129601         -0.525027     2.983749       -0.914914  -0.404721   \n",
      "\n",
      "   free sulfur dioxide  total sulfur dioxide        pH   alcohol  \n",
      "0             0.033738             -0.028903  6.718120 -0.562014  \n",
      "1            -0.014571             -0.008536  1.607150 -0.300325  \n",
      "2            -0.018280              0.011810  0.161311 -0.605445  \n",
      "3             0.017272             -0.007619  0.193634  0.260642  \n",
      "4             0.009348             -0.011545 -1.515401  1.251271  \n",
      "5             0.014481             -0.016362 -6.039483  1.787569  \n",
      "Accuracy of the LDA model: 0.546875\n",
      "Accuracy of the Naive Bayes model: 0.521875\n"
     ]
    }
   ],
   "source": [
    "data = red_wine\n",
    "X = data[['fixed acidity', 'volatile acidity', 'citric acid', 'residual sugar', \n",
    "          'chlorides', 'free sulfur dioxide', 'total sulfur dioxide', \n",
    "           'pH', 'alcohol']]\n",
    "y = data['quality']\n",
    "X_train, X_test, y_train, y_test = train_test_split(X, y, test_size=0.2, random_state=42)\n",
    "lda = LinearDiscriminantAnalysis()\n",
    "lda.fit(X_train, y_train)\n",
    "coefficients = pd.DataFrame(lda.coef_, columns=X_train.columns)\n",
    "print(\"Coefficients of the LDA model:\\n\", coefficients)\n",
    "y_pred_lda = lda.predict(X_test)\n",
    "accuracy_lda = accuracy_score(y_test, y_pred_lda)\n",
    "print(\"Accuracy of the LDA model:\", accuracy_lda)\n",
    "nb = GaussianNB()\n",
    "nb.fit(X_train, y_train)\n",
    "y_pred_nb = nb.predict(X_test)\n",
    "accuracy_nb = accuracy_score(y_test, y_pred_nb)\n",
    "print(\"Accuracy of the Naive Bayes model:\", accuracy_nb)"
   ]
  },
  {
   "attachments": {},
   "cell_type": "markdown",
   "metadata": {},
   "source": [
    "to improve the accuracy I will remove variables (density, sulphates)##############################"
   ]
  },
  {
   "cell_type": "code",
   "execution_count": 5,
   "metadata": {},
   "outputs": [
    {
     "ename": "NameError",
     "evalue": "name 'train_test_split' is not defined",
     "output_type": "error",
     "traceback": [
      "\u001b[0;31m---------------------------------------------------------------------------\u001b[0m",
      "\u001b[0;31mNameError\u001b[0m                                 Traceback (most recent call last)",
      "Cell \u001b[0;32mIn[5], line 6\u001b[0m\n\u001b[1;32m      2\u001b[0m X \u001b[39m=\u001b[39m data[[\u001b[39m'\u001b[39m\u001b[39mfixed acidity\u001b[39m\u001b[39m'\u001b[39m, \u001b[39m'\u001b[39m\u001b[39mvolatile acidity\u001b[39m\u001b[39m'\u001b[39m, \u001b[39m'\u001b[39m\u001b[39mcitric acid\u001b[39m\u001b[39m'\u001b[39m, \u001b[39m'\u001b[39m\u001b[39mresidual sugar\u001b[39m\u001b[39m'\u001b[39m, \n\u001b[1;32m      3\u001b[0m           \u001b[39m'\u001b[39m\u001b[39mchlorides\u001b[39m\u001b[39m'\u001b[39m, \u001b[39m'\u001b[39m\u001b[39mfree sulfur dioxide\u001b[39m\u001b[39m'\u001b[39m, \u001b[39m'\u001b[39m\u001b[39mtotal sulfur dioxide\u001b[39m\u001b[39m'\u001b[39m, \n\u001b[1;32m      4\u001b[0m            \u001b[39m'\u001b[39m\u001b[39mpH\u001b[39m\u001b[39m'\u001b[39m, \u001b[39m'\u001b[39m\u001b[39malcohol\u001b[39m\u001b[39m'\u001b[39m]]\n\u001b[1;32m      5\u001b[0m y \u001b[39m=\u001b[39m data[\u001b[39m'\u001b[39m\u001b[39mquality\u001b[39m\u001b[39m'\u001b[39m]\n\u001b[0;32m----> 6\u001b[0m X_train, X_test, y_train, y_test \u001b[39m=\u001b[39m train_test_split(X, y, test_size\u001b[39m=\u001b[39m\u001b[39m0.2\u001b[39m, random_state\u001b[39m=\u001b[39m\u001b[39m42\u001b[39m)\n\u001b[1;32m      7\u001b[0m lda \u001b[39m=\u001b[39m LinearDiscriminantAnalysis()\n\u001b[1;32m      8\u001b[0m lda\u001b[39m.\u001b[39mfit(X_train, y_train)\n",
      "\u001b[0;31mNameError\u001b[0m: name 'train_test_split' is not defined"
     ]
    }
   ],
   "source": [
    "data = red_wine\n",
    "X = data[['fixed acidity', 'volatile acidity', 'citric acid', 'residual sugar', \n",
    "          'chlorides', 'free sulfur dioxide', 'total sulfur dioxide', \n",
    "           'pH', 'alcohol']]\n",
    "y = data['quality']\n",
    "X_train, X_test, y_train, y_test = train_test_split(X, y, test_size=0.2, random_state=42)\n",
    "lda = LinearDiscriminantAnalysis()\n",
    "lda.fit(X_train, y_train)\n",
    "coefficients = pd.DataFrame(lda.coef_, columns=X_train.columns)\n",
    "print(\"Coefficients of the LDA model:\\n\", coefficients)\n",
    "y_pred_lda = lda.predict(X_test)\n",
    "accuracy_lda = accuracy_score(y_test, y_pred_lda)\n",
    "print(\"Accuracy of the LDA model:\", accuracy_lda)\n",
    "nb = GaussianNB()\n",
    "nb.fit(X_train, y_train)\n",
    "y_pred_nb = nb.predict(X_test)\n",
    "accuracy_nb = accuracy_score(y_test, y_pred_nb)\n",
    "print(\"Accuracy of the Naive Bayes model:\", accuracy_nb)"
   ]
  },
  {
   "cell_type": "code",
   "execution_count": 336,
   "metadata": {},
   "outputs": [
    {
     "name": "stdout",
     "output_type": "stream",
     "text": [
      "Coefficients of the LDA model:\n",
      "    fixed acidity  volatile acidity  citric acid  residual sugar  chlorides  \\\n",
      "0       0.504205          0.230096    -2.787199       -0.013338   0.027736   \n",
      "1      -0.100355          0.373636    -1.634569       -0.063935  -0.138481   \n",
      "2      -0.148636          0.641402     0.040940       -0.041255  -0.038591   \n",
      "3       0.044307         -0.316655    -0.089922        0.018804   0.066662   \n",
      "4       0.174510         -0.502232     0.486011        0.033347  -0.042103   \n",
      "5       0.055088         -0.273902     0.348020        0.075421  -0.103257   \n",
      "6       1.166170          0.571885     1.345912        0.060829  -1.595555   \n",
      "\n",
      "   free sulfur dioxide  total sulfur dioxide        pH   alcohol  \n",
      "0             0.033924             -0.002296  2.207185 -0.229107  \n",
      "1            -0.059594              0.011660 -1.223507 -0.556700  \n",
      "2            -0.011820              0.007827 -0.992369 -0.673914  \n",
      "3             0.005032             -0.003470  0.351179  0.160130  \n",
      "4             0.016761             -0.007704  1.096934  0.843623  \n",
      "5             0.026278             -0.007034  0.742767  1.155931  \n",
      "6             0.035539             -0.004794  7.697667  0.704861  \n",
      "Accuracy of the LDA model: 0.5261538461538462\n",
      "Accuracy of the Naive Bayes model: 0.51\n"
     ]
    }
   ],
   "source": [
    "wines = pd.concat([white_wine, red_wine], axis=0)\n",
    "X = data[['fixed acidity', 'volatile acidity', 'citric acid', 'residual sugar', \n",
    "          'chlorides', 'free sulfur dioxide', 'total sulfur dioxide', \n",
    "           'pH', 'alcohol']]\n",
    "y = data['quality']\n",
    "X_train, X_test, y_train, y_test = train_test_split(X, y, test_size=0.2, random_state=42)\n",
    "lda = LinearDiscriminantAnalysis()\n",
    "lda.fit(X_train, y_train)\n",
    "coefficients = pd.DataFrame(lda.coef_, columns=X_train.columns)\n",
    "print(\"Coefficients of the LDA model:\\n\", coefficients)\n",
    "y_pred_lda = lda.predict(X_test)\n",
    "accuracy_lda = accuracy_score(y_test, y_pred_lda)\n",
    "print(\"Accuracy of the LDA model:\", accuracy_lda)\n",
    "nb = GaussianNB()\n",
    "nb.fit(X_train, y_train)\n",
    "y_pred_nb = nb.predict(X_test)\n",
    "accuracy_nb = accuracy_score(y_test, y_pred_nb)\n",
    "print(\"Accuracy of the Naive Bayes model:\", accuracy_nb)"
   ]
  },
  {
   "attachments": {},
   "cell_type": "markdown",
   "metadata": {},
   "source": [
    "###Random Forest Classification###### (it is not working)"
   ]
  },
  {
   "attachments": {},
   "cell_type": "markdown",
   "metadata": {},
   "source": [
    "Running Random Forest Regressor, with all 11 variables "
   ]
  },
  {
   "cell_type": "code",
   "execution_count": 342,
   "metadata": {},
   "outputs": [
    {
     "name": "stdout",
     "output_type": "stream",
     "text": [
      "Random forest R^2 score: 0.5467\n"
     ]
    }
   ],
   "source": [
    "wines = pd.concat([white_wine, red_wine], axis=0)\n",
    "features = ['fixed acidity', 'volatile acidity', 'citric acid', 'residual sugar',\n",
    "            'chlorides', 'free sulfur dioxide', 'total sulfur dioxide', \n",
    "            'density', 'pH', 'sulphates', 'alcohol']\n",
    "target = 'quality'\n",
    "\n",
    "# split the data into training and testing sets\n",
    "X_train, X_test, y_train, y_test = train_test_split(wines[features], wines[target], test_size=0.2, random_state=42)\n",
    "\n",
    "# create a random forest regression model with default parameters\n",
    "rf = RandomForestRegressor(random_state=42)\n",
    "\n",
    "# fit the model to the training data\n",
    "rf.fit(X_train, y_train)\n",
    "\n",
    "# evaluate the model on the testing data\n",
    "score = rf.score(X_test, y_test)\n",
    "\n",
    "print(f\"Random forest R^2 score: {score:.4f}\") "
   ]
  },
  {
   "attachments": {},
   "cell_type": "markdown",
   "metadata": {},
   "source": [
    "Running it again, removing pH, fixed and citric acidity, residual sugar, free sulfur dioxide (the accuracy is decreasing)"
   ]
  },
  {
   "cell_type": "code",
   "execution_count": 399,
   "metadata": {},
   "outputs": [
    {
     "name": "stdout",
     "output_type": "stream",
     "text": [
      "Random forest R^2 score: 0.5013\n"
     ]
    }
   ],
   "source": [
    "wines = pd.concat([white_wine, red_wine], axis=0)\n",
    "features = [ 'volatile acidity', \n",
    "            'chlorides', 'total sulfur dioxide', \n",
    "            'density', 'sulphates', 'alcohol']\n",
    "target = 'quality'\n",
    "\n",
    "# split the data into training and testing sets\n",
    "X_train, X_test, y_train, y_test = train_test_split(wines[features], wines[target], test_size=0.2, random_state=42)\n",
    "\n",
    "# create a random forest regression model with default parameters\n",
    "rf = RandomForestRegressor(random_state=42)\n",
    "\n",
    "# fit the model to the training data\n",
    "rf.fit(X_train, y_train)\n",
    "\n",
    "# evaluate the model on the testing data\n",
    "score = rf.score(X_test, y_test)\n",
    "\n",
    "print(f\"Random forest R^2 score: {score:.4f}\") "
   ]
  },
  {
   "cell_type": "code",
   "execution_count": 401,
   "metadata": {},
   "outputs": [
    {
     "name": "stdout",
     "output_type": "stream",
     "text": [
      "Random forest R^2 score: 0.5013\n"
     ]
    }
   ],
   "source": [
    "wines = pd.concat([white_wine, red_wine], axis=0)\n",
    "features = [ 'volatile acidity', \n",
    "            'chlorides', 'total sulfur dioxide', \n",
    "            'density', 'sulphates', 'alcohol']\n",
    "target = 'quality'\n",
    "\n",
    "# split the data into training and testing sets\n",
    "X_train, X_test, y_train, y_test = train_test_split(wines[features], wines[target], test_size=0.2, random_state=42)\n",
    "\n",
    "# create a random forest regression model with default parameters\n",
    "rf = RandomForestRegressor(random_state=42)\n",
    "\n",
    "# fit the model to the training data\n",
    "rf.fit(X_train, y_train)\n",
    "\n",
    "# evaluate the model on the testing data\n",
    "score = rf.score(X_test, y_test)\n",
    "\n",
    "print(f\"Random forest R^2 score: {score:.4f}\") "
   ]
  },
  {
   "attachments": {},
   "cell_type": "markdown",
   "metadata": {},
   "source": [
    "runnig the same model but removing the variable density"
   ]
  },
  {
   "cell_type": "code",
   "execution_count": 343,
   "metadata": {},
   "outputs": [
    {
     "name": "stdout",
     "output_type": "stream",
     "text": [
      "Random forest R^2 score: 0.5496\n"
     ]
    }
   ],
   "source": [
    "wines = pd.concat([white_wine, red_wine], axis=0)\n",
    "features = ['fixed acidity', 'volatile acidity', 'citric acid', 'residual sugar',\n",
    "            'chlorides', 'free sulfur dioxide', 'total sulfur dioxide', 'pH', 'sulphates', 'alcohol']\n",
    "target = 'quality'\n",
    "\n",
    "# split the data into training and testing sets\n",
    "X_train, X_test, y_train, y_test = train_test_split(wines[features], wines[target], test_size=0.2, random_state=42)\n",
    "\n",
    "# create a random forest regression model with default parameters\n",
    "rf = RandomForestRegressor(random_state=42)\n",
    "\n",
    "# fit the model to the training data\n",
    "rf.fit(X_train, y_train)\n",
    "\n",
    "# evaluate the model on the testing data\n",
    "score = rf.score(X_test, y_test)\n",
    "\n",
    "print(f\"Random forest R^2 score: {score:.4f}\") "
   ]
  },
  {
   "attachments": {},
   "cell_type": "markdown",
   "metadata": {},
   "source": [
    "after removing density, the score improved slightly, I am removing now fixed, volatile and citric accidity"
   ]
  },
  {
   "cell_type": "code",
   "execution_count": 398,
   "metadata": {},
   "outputs": [
    {
     "name": "stdout",
     "output_type": "stream",
     "text": [
      "Random forest R^2 score: 0.5274\n"
     ]
    }
   ],
   "source": [
    "wines = pd.concat([white_wine, red_wine], axis=0)\n",
    "features = ['residual sugar',\n",
    "            'chlorides', 'free sulfur dioxide', 'total sulfur dioxide', 'pH', 'sulphates', 'alcohol']\n",
    "target = 'quality'\n",
    "\n",
    "# split the data into training and testing sets\n",
    "X_train, X_test, y_train, y_test = train_test_split(wines[features], wines[target], test_size=0.2, random_state=42)\n",
    "\n",
    "# create a random forest regression model with default parameters\n",
    "rf = RandomForestRegressor(random_state=42)\n",
    "\n",
    "# fit the model to the training data\n",
    "rf.fit(X_train, y_train)\n",
    "\n",
    "# evaluate the model on the testing data\n",
    "score = rf.score(X_test, y_test)\n",
    "\n",
    "print(f\"Random forest R^2 score: {score:.4f}\") "
   ]
  },
  {
   "attachments": {},
   "cell_type": "markdown",
   "metadata": {},
   "source": [
    "the score decreased, I am starting all over and removing density and sulphates"
   ]
  },
  {
   "attachments": {},
   "cell_type": "markdown",
   "metadata": {},
   "source": [
    "the socre went up a bit but still not as good as the first result, now trying it with the  separated wine datasets, removing density and sulphates"
   ]
  },
  {
   "cell_type": "code",
   "execution_count": 345,
   "metadata": {},
   "outputs": [
    {
     "name": "stdout",
     "output_type": "stream",
     "text": [
      "Random forest R^2 score: 0.5336\n"
     ]
    }
   ],
   "source": [
    "wines = pd.concat([white_wine, red_wine], axis=0)\n",
    "features = ['fixed acidity', 'volatile acidity', 'citric acid', 'residual sugar',\n",
    "            'chlorides', 'free sulfur dioxide', 'total sulfur dioxide', 'pH', 'alcohol']\n",
    "target = 'quality'\n",
    "\n",
    "# split the data into training and testing sets\n",
    "X_train, X_test, y_train, y_test = train_test_split(wines[features], wines[target], test_size=0.2, random_state=42)\n",
    "\n",
    "# create a random forest regression model with default parameters\n",
    "rf = RandomForestRegressor(random_state=42)\n",
    "\n",
    "# fit the model to the training data\n",
    "rf.fit(X_train, y_train)\n",
    "\n",
    "# evaluate the model on the testing data\n",
    "score = rf.score(X_test, y_test)\n",
    "\n",
    "print(f\"Random forest R^2 score: {score:.4f}\") "
   ]
  },
  {
   "cell_type": "code",
   "execution_count": 346,
   "metadata": {},
   "outputs": [
    {
     "name": "stdout",
     "output_type": "stream",
     "text": [
      "Cleaned dataset shape: (5363, 16)\n"
     ]
    }
   ],
   "source": [
    "\n",
    "wines = pd.concat([white_wine, red_wine], axis=0)\n",
    "\n",
    "# select the features to be used for outlier detection\n",
    "features = ['fixed acidity', 'volatile acidity', 'citric acid', 'residual sugar',\n",
    "            'chlorides', 'free sulfur dioxide', 'total sulfur dioxide', \n",
    "            'density', 'pH', 'sulphates', 'alcohol']\n",
    "\n",
    "# calculate the IQR for each feature\n",
    "Q1 = wines[features].quantile(0.25)\n",
    "Q3 = wines[features].quantile(0.75)\n",
    "IQR = Q3 - Q1\n",
    "\n",
    "# remove any data point that has a feature value outside the range [Q1 - 1.5*IQR, Q3 + 1.5*IQR]\n",
    "wines = wines[~((wines[features] < (Q1 - 1.5 * IQR)) | (wines[features] > (Q3 + 1.5 * IQR))).any(axis=1)]\n",
    "\n",
    "# print the shape of the cleaned dataset\n",
    "print(f\"Cleaned dataset shape: {wines.shape}\")\n"
   ]
  },
  {
   "attachments": {},
   "cell_type": "markdown",
   "metadata": {},
   "source": [
    "calculating Cohen Kappa Score"
   ]
  },
  {
   "cell_type": "code",
   "execution_count": 295,
   "metadata": {},
   "outputs": [
    {
     "name": "stdout",
     "output_type": "stream",
     "text": [
      "Cohen's kappa coefficient: 1.0\n"
     ]
    }
   ],
   "source": [
    "data = red_wine\n",
    "\n",
    "# Extract the labels and predictions\n",
    "labels = red_wine['quality']\n",
    "predictions = red_wine['quality']\n",
    "\n",
    "# Calculate Cohen's kappa coefficient\n",
    "kappa = cohen_kappa_score(labels, predictions)\n",
    "\n",
    "print(\"Cohen's kappa coefficient:\", kappa)\n",
    "\n"
   ]
  }
 ],
 "metadata": {
  "kernelspec": {
   "display_name": "CodeAcademy",
   "language": "python",
   "name": "python3"
  },
  "language_info": {
   "codemirror_mode": {
    "name": "ipython",
    "version": 3
   },
   "file_extension": ".py",
   "mimetype": "text/x-python",
   "name": "python",
   "nbconvert_exporter": "python",
   "pygments_lexer": "ipython3",
   "version": "3.11.0"
  },
  "orig_nbformat": 4,
  "vscode": {
   "interpreter": {
    "hash": "11af33b684b88108a2c540ae87b4410b9666fc5ea6d68ff48f82a59b27a731d8"
   }
  }
 },
 "nbformat": 4,
 "nbformat_minor": 2
}
